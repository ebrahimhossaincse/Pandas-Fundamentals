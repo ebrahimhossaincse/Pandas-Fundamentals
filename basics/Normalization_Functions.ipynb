{
 "cells": [
  {
   "cell_type": "code",
   "id": "initial_id",
   "metadata": {
    "collapsed": true,
    "ExecuteTime": {
     "end_time": "2024-10-01T18:53:47.656592Z",
     "start_time": "2024-10-01T18:53:46.997893Z"
    }
   },
   "source": [
    "import pandas as pd\n",
    "import os\n",
    "pd.__version__"
   ],
   "outputs": [
    {
     "data": {
      "text/plain": [
       "'2.2.2'"
      ]
     },
     "execution_count": 1,
     "metadata": {},
     "output_type": "execute_result"
    }
   ],
   "execution_count": 1
  },
  {
   "metadata": {
    "ExecuteTime": {
     "end_time": "2024-10-01T18:53:47.667555Z",
     "start_time": "2024-10-01T18:53:47.663598Z"
    }
   },
   "cell_type": "code",
   "source": [
    "root_dir = os.path.dirname(os.getcwd())\n",
    "data_dir = os.path.join(root_dir, 'data')\n",
    "data_set_path = os.path.join(data_dir, 'sales_subset.csv')"
   ],
   "id": "bd8eb8827e466ff8",
   "outputs": [],
   "execution_count": 2
  },
  {
   "metadata": {
    "ExecuteTime": {
     "end_time": "2024-10-01T18:53:47.763540Z",
     "start_time": "2024-10-01T18:53:47.742189Z"
    }
   },
   "cell_type": "code",
   "source": [
    "\"\"\"Read File\"\"\"\n",
    "sales = pd.read_csv(data_set_path)\n",
    "sales = sales.drop(columns=['Unnamed: 0'])"
   ],
   "id": "72571fc6cf5ee3a9",
   "outputs": [],
   "execution_count": 3
  },
  {
   "metadata": {
    "ExecuteTime": {
     "end_time": "2024-10-01T18:53:47.800907Z",
     "start_time": "2024-10-01T18:53:47.776865Z"
    }
   },
   "cell_type": "code",
   "source": [
    "def min_max_normalize(df):\n",
    "    \"\"\"Normalize the DataFrame using Min-Max scaling (between 0 and 1).\"\"\"\n",
    "    return (df - df.min()) / (df.max() - df.min())\n",
    "\n",
    "def z_score_normalize(df):\n",
    "    \"\"\"Normalize the DataFrame using Z-score normalization (standardization).\"\"\"\n",
    "    return (df - df.mean()) / df.std()\n",
    "\n",
    "def max_normalize(df):\n",
    "    \"\"\"Normalize the DataFrame using Max normalization (scale to max value).\"\"\"\n",
    "    return df / df.max()\n",
    "\n",
    "def robust_scale(df):\n",
    "    \"\"\"Normalize the DataFrame using Robust scaling (IQR).\"\"\"\n",
    "    return (df - df.median()) / (df.quantile(0.75) - df.quantile(0.25))\n",
    "    \n",
    "\n",
    "print(\"Original DataFrame:\")\n",
    "print(sales[['temperature_c']])\n",
    "\n",
    "print(\"\\nMin-Max Normalized DataFrame:\")\n",
    "print(min_max_normalize(sales[['temperature_c']].agg(min_max_normalize)))\n",
    "\n",
    "print(\"\\nZ-Score Normalized DataFrame:\")\n",
    "print(z_score_normalize(sales[['temperature_c']].agg(z_score_normalize)))\n",
    "\n",
    "print(\"\\nMax Normalized DataFrame:\")\n",
    "print(max_normalize(sales[['temperature_c']].agg(max_normalize)))\n",
    "\n",
    "print(\"\\nRobust Scaled DataFrame:\")\n",
    "print(robust_scale(sales[['temperature_c']].agg(robust_scale)))"
   ],
   "id": "4c5f04f047e98013",
   "outputs": [
    {
     "name": "stdout",
     "output_type": "stream",
     "text": [
      "Original DataFrame:\n",
      "       temperature_c\n",
      "0           5.727778\n",
      "1           8.055556\n",
      "2          16.816667\n",
      "3          22.527778\n",
      "4          27.050000\n",
      "...              ...\n",
      "10769       9.644444\n",
      "10770      15.938889\n",
      "10771      27.288889\n",
      "10772      25.644444\n",
      "10773      22.250000\n",
      "\n",
      "[10774 rows x 1 columns]\n",
      "\n",
      "Min-Max Normalized DataFrame:\n",
      "       temperature_c\n",
      "0           0.334036\n",
      "1           0.389203\n",
      "2           0.596840\n",
      "3           0.732192\n",
      "4           0.839368\n",
      "...              ...\n",
      "10769       0.426860\n",
      "10770       0.576037\n",
      "10771       0.845030\n",
      "10772       0.806057\n",
      "10773       0.725609\n",
      "\n",
      "[10774 rows x 1 columns]\n",
      "\n",
      "Z-Score Normalized DataFrame:\n",
      "       temperature_c\n",
      "0          -1.008239\n",
      "1          -0.773642\n",
      "2           0.109317\n",
      "3           0.684892\n",
      "4           1.140648\n",
      "...              ...\n",
      "10769      -0.613511\n",
      "10770       0.020853\n",
      "10771       1.164724\n",
      "10772       0.998994\n",
      "10773       0.656897\n",
      "\n",
      "[10774 rows x 1 columns]\n",
      "\n",
      "Max Normalized DataFrame:\n",
      "       temperature_c\n",
      "0           0.169322\n",
      "1           0.238134\n",
      "2           0.497126\n",
      "3           0.665955\n",
      "4           0.799639\n",
      "...              ...\n",
      "10769       0.285104\n",
      "10770       0.471178\n",
      "10771       0.806701\n",
      "10772       0.758088\n",
      "10773       0.657743\n",
      "\n",
      "[10774 rows x 1 columns]\n",
      "\n",
      "Robust Scaled DataFrame:\n",
      "       temperature_c\n",
      "0          -0.677722\n",
      "1          -0.537353\n",
      "2          -0.009045\n",
      "3           0.335343\n",
      "4           0.608040\n",
      "...              ...\n",
      "10769      -0.441541\n",
      "10770      -0.061977\n",
      "10771       0.622446\n",
      "10772       0.523283\n",
      "10773       0.318593\n",
      "\n",
      "[10774 rows x 1 columns]\n"
     ]
    }
   ],
   "execution_count": 4
  },
  {
   "metadata": {
    "ExecuteTime": {
     "end_time": "2024-10-01T18:53:47.878221Z",
     "start_time": "2024-10-01T18:53:47.874405Z"
    }
   },
   "cell_type": "code",
   "source": "",
   "id": "3d528244e9f114e3",
   "outputs": [],
   "execution_count": null
  },
  {
   "metadata": {
    "ExecuteTime": {
     "end_time": "2024-10-01T18:53:47.898634Z",
     "start_time": "2024-10-01T18:53:47.895388Z"
    }
   },
   "cell_type": "code",
   "source": "",
   "id": "68209a45cc871a77",
   "outputs": [],
   "execution_count": null
  }
 ],
 "metadata": {
  "kernelspec": {
   "display_name": "Python 3",
   "language": "python",
   "name": "python3"
  },
  "language_info": {
   "codemirror_mode": {
    "name": "ipython",
    "version": 2
   },
   "file_extension": ".py",
   "mimetype": "text/x-python",
   "name": "python",
   "nbconvert_exporter": "python",
   "pygments_lexer": "ipython2",
   "version": "2.7.6"
  }
 },
 "nbformat": 4,
 "nbformat_minor": 5
}
