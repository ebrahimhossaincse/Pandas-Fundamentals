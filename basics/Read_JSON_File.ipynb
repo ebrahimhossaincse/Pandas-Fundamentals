{
 "cells": [
  {
   "metadata": {
    "ExecuteTime": {
     "end_time": "2024-10-03T12:37:55.567141Z",
     "start_time": "2024-10-03T12:37:55.563960Z"
    }
   },
   "cell_type": "code",
   "source": "",
   "id": "fbe0f99aab72378d",
   "outputs": [],
   "execution_count": null
  },
  {
   "metadata": {
    "ExecuteTime": {
     "end_time": "2024-10-03T12:37:55.592205Z",
     "start_time": "2024-10-03T12:37:55.588290Z"
    }
   },
   "cell_type": "code",
   "source": "",
   "id": "6d32765b9e922d3",
   "outputs": [],
   "execution_count": null
  },
  {
   "cell_type": "code",
   "id": "initial_id",
   "metadata": {
    "collapsed": true,
    "ExecuteTime": {
     "end_time": "2024-10-03T12:37:55.616439Z",
     "start_time": "2024-10-03T12:37:55.611335Z"
    }
   },
   "source": [
    "import pandas as pd\n",
    "import os"
   ],
   "outputs": [],
   "execution_count": 12
  },
  {
   "metadata": {
    "ExecuteTime": {
     "end_time": "2024-10-03T12:37:55.644610Z",
     "start_time": "2024-10-03T12:37:55.639295Z"
    }
   },
   "cell_type": "code",
   "source": [
    "root_dir = os.path.dirname(os.getcwd())\n",
    "print(root_dir)\n",
    "data_dir = os.path.join(root_dir, 'data')\n",
    "print(data_dir)\n",
    "json_data_path = data_dir+\"\\employees.json\"\n",
    "print(json_data_path)"
   ],
   "id": "a9c75eec454b9edc",
   "outputs": [
    {
     "name": "stdout",
     "output_type": "stream",
     "text": [
      "C:\\Users\\Asus\\PycharmProjects\\Pandas_Fundamentals\n",
      "C:\\Users\\Asus\\PycharmProjects\\Pandas_Fundamentals\\data\n",
      "C:\\Users\\Asus\\PycharmProjects\\Pandas_Fundamentals\\data\\employees.json\n"
     ]
    }
   ],
   "execution_count": 13
  },
  {
   "metadata": {
    "ExecuteTime": {
     "end_time": "2024-10-03T12:37:55.710492Z",
     "start_time": "2024-10-03T12:37:55.698781Z"
    }
   },
   "cell_type": "code",
   "source": [
    "\"\"\"Read Data from JSON file\"\"\"\n",
    "df = pd.read_json(json_data_path)\n",
    "df"
   ],
   "id": "a22652a67c230f47",
   "outputs": [
    {
     "data": {
      "text/plain": [
       "   EmployeeID     Name   Department  Age  Salary    JoinDate\n",
       "0         101    Alice  Engineering   29   99000  2020-01-15\n",
       "1         102      Bob        Sales   34   65000  2018-03-22\n",
       "2         103  Charlie    Marketing   28   70000  2019-11-10\n",
       "3         104    David  Engineering   42   95000  2015-06-01\n",
       "4         105      Eva        Sales   30   62000  2021-09-15\n",
       "5         106    Frank           HR   45   98000  2012-04-17\n",
       "6         107    Grace  Engineering   26   82000  2022-05-12\n",
       "7         108   Hannah           HR   39   59000  2017-12-05\n",
       "8         109      Ian    Marketing   35   73000  2021-08-19\n",
       "9         110     Jack        Sales   31   67000  2020-02-28"
      ],
      "text/html": [
       "<div>\n",
       "<style scoped>\n",
       "    .dataframe tbody tr th:only-of-type {\n",
       "        vertical-align: middle;\n",
       "    }\n",
       "\n",
       "    .dataframe tbody tr th {\n",
       "        vertical-align: top;\n",
       "    }\n",
       "\n",
       "    .dataframe thead th {\n",
       "        text-align: right;\n",
       "    }\n",
       "</style>\n",
       "<table border=\"1\" class=\"dataframe\">\n",
       "  <thead>\n",
       "    <tr style=\"text-align: right;\">\n",
       "      <th></th>\n",
       "      <th>EmployeeID</th>\n",
       "      <th>Name</th>\n",
       "      <th>Department</th>\n",
       "      <th>Age</th>\n",
       "      <th>Salary</th>\n",
       "      <th>JoinDate</th>\n",
       "    </tr>\n",
       "  </thead>\n",
       "  <tbody>\n",
       "    <tr>\n",
       "      <th>0</th>\n",
       "      <td>101</td>\n",
       "      <td>Alice</td>\n",
       "      <td>Engineering</td>\n",
       "      <td>29</td>\n",
       "      <td>99000</td>\n",
       "      <td>2020-01-15</td>\n",
       "    </tr>\n",
       "    <tr>\n",
       "      <th>1</th>\n",
       "      <td>102</td>\n",
       "      <td>Bob</td>\n",
       "      <td>Sales</td>\n",
       "      <td>34</td>\n",
       "      <td>65000</td>\n",
       "      <td>2018-03-22</td>\n",
       "    </tr>\n",
       "    <tr>\n",
       "      <th>2</th>\n",
       "      <td>103</td>\n",
       "      <td>Charlie</td>\n",
       "      <td>Marketing</td>\n",
       "      <td>28</td>\n",
       "      <td>70000</td>\n",
       "      <td>2019-11-10</td>\n",
       "    </tr>\n",
       "    <tr>\n",
       "      <th>3</th>\n",
       "      <td>104</td>\n",
       "      <td>David</td>\n",
       "      <td>Engineering</td>\n",
       "      <td>42</td>\n",
       "      <td>95000</td>\n",
       "      <td>2015-06-01</td>\n",
       "    </tr>\n",
       "    <tr>\n",
       "      <th>4</th>\n",
       "      <td>105</td>\n",
       "      <td>Eva</td>\n",
       "      <td>Sales</td>\n",
       "      <td>30</td>\n",
       "      <td>62000</td>\n",
       "      <td>2021-09-15</td>\n",
       "    </tr>\n",
       "    <tr>\n",
       "      <th>5</th>\n",
       "      <td>106</td>\n",
       "      <td>Frank</td>\n",
       "      <td>HR</td>\n",
       "      <td>45</td>\n",
       "      <td>98000</td>\n",
       "      <td>2012-04-17</td>\n",
       "    </tr>\n",
       "    <tr>\n",
       "      <th>6</th>\n",
       "      <td>107</td>\n",
       "      <td>Grace</td>\n",
       "      <td>Engineering</td>\n",
       "      <td>26</td>\n",
       "      <td>82000</td>\n",
       "      <td>2022-05-12</td>\n",
       "    </tr>\n",
       "    <tr>\n",
       "      <th>7</th>\n",
       "      <td>108</td>\n",
       "      <td>Hannah</td>\n",
       "      <td>HR</td>\n",
       "      <td>39</td>\n",
       "      <td>59000</td>\n",
       "      <td>2017-12-05</td>\n",
       "    </tr>\n",
       "    <tr>\n",
       "      <th>8</th>\n",
       "      <td>109</td>\n",
       "      <td>Ian</td>\n",
       "      <td>Marketing</td>\n",
       "      <td>35</td>\n",
       "      <td>73000</td>\n",
       "      <td>2021-08-19</td>\n",
       "    </tr>\n",
       "    <tr>\n",
       "      <th>9</th>\n",
       "      <td>110</td>\n",
       "      <td>Jack</td>\n",
       "      <td>Sales</td>\n",
       "      <td>31</td>\n",
       "      <td>67000</td>\n",
       "      <td>2020-02-28</td>\n",
       "    </tr>\n",
       "  </tbody>\n",
       "</table>\n",
       "</div>"
      ]
     },
     "execution_count": 14,
     "metadata": {},
     "output_type": "execute_result"
    }
   ],
   "execution_count": 14
  },
  {
   "metadata": {
    "ExecuteTime": {
     "end_time": "2024-10-03T12:37:55.772330Z",
     "start_time": "2024-10-03T12:37:55.760163Z"
    }
   },
   "cell_type": "code",
   "source": [
    "\"\"\"Sorting Json Data\"\"\"\n",
    "sorted_df = df.sort_values(by=['Department', 'Salary'], ascending=[True, False])\n",
    "sorted_df"
   ],
   "id": "f94ec81033250928",
   "outputs": [
    {
     "data": {
      "text/plain": [
       "   EmployeeID     Name   Department  Age  Salary    JoinDate\n",
       "0         101    Alice  Engineering   29   99000  2020-01-15\n",
       "3         104    David  Engineering   42   95000  2015-06-01\n",
       "6         107    Grace  Engineering   26   82000  2022-05-12\n",
       "5         106    Frank           HR   45   98000  2012-04-17\n",
       "7         108   Hannah           HR   39   59000  2017-12-05\n",
       "8         109      Ian    Marketing   35   73000  2021-08-19\n",
       "2         103  Charlie    Marketing   28   70000  2019-11-10\n",
       "9         110     Jack        Sales   31   67000  2020-02-28\n",
       "1         102      Bob        Sales   34   65000  2018-03-22\n",
       "4         105      Eva        Sales   30   62000  2021-09-15"
      ],
      "text/html": [
       "<div>\n",
       "<style scoped>\n",
       "    .dataframe tbody tr th:only-of-type {\n",
       "        vertical-align: middle;\n",
       "    }\n",
       "\n",
       "    .dataframe tbody tr th {\n",
       "        vertical-align: top;\n",
       "    }\n",
       "\n",
       "    .dataframe thead th {\n",
       "        text-align: right;\n",
       "    }\n",
       "</style>\n",
       "<table border=\"1\" class=\"dataframe\">\n",
       "  <thead>\n",
       "    <tr style=\"text-align: right;\">\n",
       "      <th></th>\n",
       "      <th>EmployeeID</th>\n",
       "      <th>Name</th>\n",
       "      <th>Department</th>\n",
       "      <th>Age</th>\n",
       "      <th>Salary</th>\n",
       "      <th>JoinDate</th>\n",
       "    </tr>\n",
       "  </thead>\n",
       "  <tbody>\n",
       "    <tr>\n",
       "      <th>0</th>\n",
       "      <td>101</td>\n",
       "      <td>Alice</td>\n",
       "      <td>Engineering</td>\n",
       "      <td>29</td>\n",
       "      <td>99000</td>\n",
       "      <td>2020-01-15</td>\n",
       "    </tr>\n",
       "    <tr>\n",
       "      <th>3</th>\n",
       "      <td>104</td>\n",
       "      <td>David</td>\n",
       "      <td>Engineering</td>\n",
       "      <td>42</td>\n",
       "      <td>95000</td>\n",
       "      <td>2015-06-01</td>\n",
       "    </tr>\n",
       "    <tr>\n",
       "      <th>6</th>\n",
       "      <td>107</td>\n",
       "      <td>Grace</td>\n",
       "      <td>Engineering</td>\n",
       "      <td>26</td>\n",
       "      <td>82000</td>\n",
       "      <td>2022-05-12</td>\n",
       "    </tr>\n",
       "    <tr>\n",
       "      <th>5</th>\n",
       "      <td>106</td>\n",
       "      <td>Frank</td>\n",
       "      <td>HR</td>\n",
       "      <td>45</td>\n",
       "      <td>98000</td>\n",
       "      <td>2012-04-17</td>\n",
       "    </tr>\n",
       "    <tr>\n",
       "      <th>7</th>\n",
       "      <td>108</td>\n",
       "      <td>Hannah</td>\n",
       "      <td>HR</td>\n",
       "      <td>39</td>\n",
       "      <td>59000</td>\n",
       "      <td>2017-12-05</td>\n",
       "    </tr>\n",
       "    <tr>\n",
       "      <th>8</th>\n",
       "      <td>109</td>\n",
       "      <td>Ian</td>\n",
       "      <td>Marketing</td>\n",
       "      <td>35</td>\n",
       "      <td>73000</td>\n",
       "      <td>2021-08-19</td>\n",
       "    </tr>\n",
       "    <tr>\n",
       "      <th>2</th>\n",
       "      <td>103</td>\n",
       "      <td>Charlie</td>\n",
       "      <td>Marketing</td>\n",
       "      <td>28</td>\n",
       "      <td>70000</td>\n",
       "      <td>2019-11-10</td>\n",
       "    </tr>\n",
       "    <tr>\n",
       "      <th>9</th>\n",
       "      <td>110</td>\n",
       "      <td>Jack</td>\n",
       "      <td>Sales</td>\n",
       "      <td>31</td>\n",
       "      <td>67000</td>\n",
       "      <td>2020-02-28</td>\n",
       "    </tr>\n",
       "    <tr>\n",
       "      <th>1</th>\n",
       "      <td>102</td>\n",
       "      <td>Bob</td>\n",
       "      <td>Sales</td>\n",
       "      <td>34</td>\n",
       "      <td>65000</td>\n",
       "      <td>2018-03-22</td>\n",
       "    </tr>\n",
       "    <tr>\n",
       "      <th>4</th>\n",
       "      <td>105</td>\n",
       "      <td>Eva</td>\n",
       "      <td>Sales</td>\n",
       "      <td>30</td>\n",
       "      <td>62000</td>\n",
       "      <td>2021-09-15</td>\n",
       "    </tr>\n",
       "  </tbody>\n",
       "</table>\n",
       "</div>"
      ]
     },
     "execution_count": 15,
     "metadata": {},
     "output_type": "execute_result"
    }
   ],
   "execution_count": 15
  },
  {
   "metadata": {
    "ExecuteTime": {
     "end_time": "2024-10-03T12:37:55.861677Z",
     "start_time": "2024-10-03T12:37:55.857019Z"
    }
   },
   "cell_type": "code",
   "source": [
    "\"\"\"\n",
    " - Feature Engineering: Each Column called feature\n",
    " - Example: Each row called example\n",
    "\"\"\""
   ],
   "id": "aec615b4b71ef0b5",
   "outputs": [
    {
     "data": {
      "text/plain": [
       "'\\n - Feature Engineering: Each Column called feature\\n - Example: Each row called example\\n'"
      ]
     },
     "execution_count": 16,
     "metadata": {},
     "output_type": "execute_result"
    }
   ],
   "execution_count": 16
  },
  {
   "metadata": {
    "ExecuteTime": {
     "end_time": "2024-10-03T12:37:55.987881Z",
     "start_time": "2024-10-03T12:37:55.978058Z"
    }
   },
   "cell_type": "code",
   "source": [
    "\"\"\"Filtered by Column\"\"\"\n",
    "\n",
    "new_df = df[['Name', 'Salary']]\n",
    "new_df"
   ],
   "id": "8e7699e6d3dd6f91",
   "outputs": [
    {
     "data": {
      "text/plain": [
       "      Name  Salary\n",
       "0    Alice   99000\n",
       "1      Bob   65000\n",
       "2  Charlie   70000\n",
       "3    David   95000\n",
       "4      Eva   62000\n",
       "5    Frank   98000\n",
       "6    Grace   82000\n",
       "7   Hannah   59000\n",
       "8      Ian   73000\n",
       "9     Jack   67000"
      ],
      "text/html": [
       "<div>\n",
       "<style scoped>\n",
       "    .dataframe tbody tr th:only-of-type {\n",
       "        vertical-align: middle;\n",
       "    }\n",
       "\n",
       "    .dataframe tbody tr th {\n",
       "        vertical-align: top;\n",
       "    }\n",
       "\n",
       "    .dataframe thead th {\n",
       "        text-align: right;\n",
       "    }\n",
       "</style>\n",
       "<table border=\"1\" class=\"dataframe\">\n",
       "  <thead>\n",
       "    <tr style=\"text-align: right;\">\n",
       "      <th></th>\n",
       "      <th>Name</th>\n",
       "      <th>Salary</th>\n",
       "    </tr>\n",
       "  </thead>\n",
       "  <tbody>\n",
       "    <tr>\n",
       "      <th>0</th>\n",
       "      <td>Alice</td>\n",
       "      <td>99000</td>\n",
       "    </tr>\n",
       "    <tr>\n",
       "      <th>1</th>\n",
       "      <td>Bob</td>\n",
       "      <td>65000</td>\n",
       "    </tr>\n",
       "    <tr>\n",
       "      <th>2</th>\n",
       "      <td>Charlie</td>\n",
       "      <td>70000</td>\n",
       "    </tr>\n",
       "    <tr>\n",
       "      <th>3</th>\n",
       "      <td>David</td>\n",
       "      <td>95000</td>\n",
       "    </tr>\n",
       "    <tr>\n",
       "      <th>4</th>\n",
       "      <td>Eva</td>\n",
       "      <td>62000</td>\n",
       "    </tr>\n",
       "    <tr>\n",
       "      <th>5</th>\n",
       "      <td>Frank</td>\n",
       "      <td>98000</td>\n",
       "    </tr>\n",
       "    <tr>\n",
       "      <th>6</th>\n",
       "      <td>Grace</td>\n",
       "      <td>82000</td>\n",
       "    </tr>\n",
       "    <tr>\n",
       "      <th>7</th>\n",
       "      <td>Hannah</td>\n",
       "      <td>59000</td>\n",
       "    </tr>\n",
       "    <tr>\n",
       "      <th>8</th>\n",
       "      <td>Ian</td>\n",
       "      <td>73000</td>\n",
       "    </tr>\n",
       "    <tr>\n",
       "      <th>9</th>\n",
       "      <td>Jack</td>\n",
       "      <td>67000</td>\n",
       "    </tr>\n",
       "  </tbody>\n",
       "</table>\n",
       "</div>"
      ]
     },
     "execution_count": 17,
     "metadata": {},
     "output_type": "execute_result"
    }
   ],
   "execution_count": 17
  },
  {
   "metadata": {
    "ExecuteTime": {
     "end_time": "2024-10-03T12:37:56.149541Z",
     "start_time": "2024-10-03T12:37:56.140293Z"
    }
   },
   "cell_type": "code",
   "source": [
    "\"\"\"Filtered by Row\"\"\"\n",
    "new_df =  df[df['Department'] == \"Engineering\"]\n",
    "new_df"
   ],
   "id": "38460239a9a8a43f",
   "outputs": [
    {
     "data": {
      "text/plain": [
       "   EmployeeID   Name   Department  Age  Salary    JoinDate\n",
       "0         101  Alice  Engineering   29   99000  2020-01-15\n",
       "3         104  David  Engineering   42   95000  2015-06-01\n",
       "6         107  Grace  Engineering   26   82000  2022-05-12"
      ],
      "text/html": [
       "<div>\n",
       "<style scoped>\n",
       "    .dataframe tbody tr th:only-of-type {\n",
       "        vertical-align: middle;\n",
       "    }\n",
       "\n",
       "    .dataframe tbody tr th {\n",
       "        vertical-align: top;\n",
       "    }\n",
       "\n",
       "    .dataframe thead th {\n",
       "        text-align: right;\n",
       "    }\n",
       "</style>\n",
       "<table border=\"1\" class=\"dataframe\">\n",
       "  <thead>\n",
       "    <tr style=\"text-align: right;\">\n",
       "      <th></th>\n",
       "      <th>EmployeeID</th>\n",
       "      <th>Name</th>\n",
       "      <th>Department</th>\n",
       "      <th>Age</th>\n",
       "      <th>Salary</th>\n",
       "      <th>JoinDate</th>\n",
       "    </tr>\n",
       "  </thead>\n",
       "  <tbody>\n",
       "    <tr>\n",
       "      <th>0</th>\n",
       "      <td>101</td>\n",
       "      <td>Alice</td>\n",
       "      <td>Engineering</td>\n",
       "      <td>29</td>\n",
       "      <td>99000</td>\n",
       "      <td>2020-01-15</td>\n",
       "    </tr>\n",
       "    <tr>\n",
       "      <th>3</th>\n",
       "      <td>104</td>\n",
       "      <td>David</td>\n",
       "      <td>Engineering</td>\n",
       "      <td>42</td>\n",
       "      <td>95000</td>\n",
       "      <td>2015-06-01</td>\n",
       "    </tr>\n",
       "    <tr>\n",
       "      <th>6</th>\n",
       "      <td>107</td>\n",
       "      <td>Grace</td>\n",
       "      <td>Engineering</td>\n",
       "      <td>26</td>\n",
       "      <td>82000</td>\n",
       "      <td>2022-05-12</td>\n",
       "    </tr>\n",
       "  </tbody>\n",
       "</table>\n",
       "</div>"
      ]
     },
     "execution_count": 18,
     "metadata": {},
     "output_type": "execute_result"
    }
   ],
   "execution_count": 18
  },
  {
   "metadata": {
    "ExecuteTime": {
     "end_time": "2024-10-03T12:37:56.431748Z",
     "start_time": "2024-10-03T12:37:56.419819Z"
    }
   },
   "cell_type": "code",
   "source": [
    "\"\"\"Multiples mask\"\"\"\n",
    "department_mask = df['Department'] == \"Engineering\"\n",
    "age_mask = df['Age'] < 40\n",
    "new_mask = df[department_mask & age_mask]\n",
    "new_mask"
   ],
   "id": "a3ad358aa2dcd334",
   "outputs": [
    {
     "data": {
      "text/plain": [
       "   EmployeeID   Name   Department  Age  Salary    JoinDate\n",
       "0         101  Alice  Engineering   29   99000  2020-01-15\n",
       "6         107  Grace  Engineering   26   82000  2022-05-12"
      ],
      "text/html": [
       "<div>\n",
       "<style scoped>\n",
       "    .dataframe tbody tr th:only-of-type {\n",
       "        vertical-align: middle;\n",
       "    }\n",
       "\n",
       "    .dataframe tbody tr th {\n",
       "        vertical-align: top;\n",
       "    }\n",
       "\n",
       "    .dataframe thead th {\n",
       "        text-align: right;\n",
       "    }\n",
       "</style>\n",
       "<table border=\"1\" class=\"dataframe\">\n",
       "  <thead>\n",
       "    <tr style=\"text-align: right;\">\n",
       "      <th></th>\n",
       "      <th>EmployeeID</th>\n",
       "      <th>Name</th>\n",
       "      <th>Department</th>\n",
       "      <th>Age</th>\n",
       "      <th>Salary</th>\n",
       "      <th>JoinDate</th>\n",
       "    </tr>\n",
       "  </thead>\n",
       "  <tbody>\n",
       "    <tr>\n",
       "      <th>0</th>\n",
       "      <td>101</td>\n",
       "      <td>Alice</td>\n",
       "      <td>Engineering</td>\n",
       "      <td>29</td>\n",
       "      <td>99000</td>\n",
       "      <td>2020-01-15</td>\n",
       "    </tr>\n",
       "    <tr>\n",
       "      <th>6</th>\n",
       "      <td>107</td>\n",
       "      <td>Grace</td>\n",
       "      <td>Engineering</td>\n",
       "      <td>26</td>\n",
       "      <td>82000</td>\n",
       "      <td>2022-05-12</td>\n",
       "    </tr>\n",
       "  </tbody>\n",
       "</table>\n",
       "</div>"
      ]
     },
     "execution_count": 19,
     "metadata": {},
     "output_type": "execute_result"
    }
   ],
   "execution_count": 19
  },
  {
   "metadata": {
    "ExecuteTime": {
     "end_time": "2024-10-03T12:37:56.596441Z",
     "start_time": "2024-10-03T12:37:56.584062Z"
    }
   },
   "cell_type": "code",
   "source": [
    "\"\"\"Creating a new Column\"\"\"\n",
    "df['bonus'] = df['Salary'] * .5\n",
    "new_df = df[['Name', 'Salary', 'bonus']]\n",
    "new_df"
   ],
   "id": "85961b120683bd4f",
   "outputs": [
    {
     "data": {
      "text/plain": [
       "      Name  Salary    bonus\n",
       "0    Alice   99000  49500.0\n",
       "1      Bob   65000  32500.0\n",
       "2  Charlie   70000  35000.0\n",
       "3    David   95000  47500.0\n",
       "4      Eva   62000  31000.0\n",
       "5    Frank   98000  49000.0\n",
       "6    Grace   82000  41000.0\n",
       "7   Hannah   59000  29500.0\n",
       "8      Ian   73000  36500.0\n",
       "9     Jack   67000  33500.0"
      ],
      "text/html": [
       "<div>\n",
       "<style scoped>\n",
       "    .dataframe tbody tr th:only-of-type {\n",
       "        vertical-align: middle;\n",
       "    }\n",
       "\n",
       "    .dataframe tbody tr th {\n",
       "        vertical-align: top;\n",
       "    }\n",
       "\n",
       "    .dataframe thead th {\n",
       "        text-align: right;\n",
       "    }\n",
       "</style>\n",
       "<table border=\"1\" class=\"dataframe\">\n",
       "  <thead>\n",
       "    <tr style=\"text-align: right;\">\n",
       "      <th></th>\n",
       "      <th>Name</th>\n",
       "      <th>Salary</th>\n",
       "      <th>bonus</th>\n",
       "    </tr>\n",
       "  </thead>\n",
       "  <tbody>\n",
       "    <tr>\n",
       "      <th>0</th>\n",
       "      <td>Alice</td>\n",
       "      <td>99000</td>\n",
       "      <td>49500.0</td>\n",
       "    </tr>\n",
       "    <tr>\n",
       "      <th>1</th>\n",
       "      <td>Bob</td>\n",
       "      <td>65000</td>\n",
       "      <td>32500.0</td>\n",
       "    </tr>\n",
       "    <tr>\n",
       "      <th>2</th>\n",
       "      <td>Charlie</td>\n",
       "      <td>70000</td>\n",
       "      <td>35000.0</td>\n",
       "    </tr>\n",
       "    <tr>\n",
       "      <th>3</th>\n",
       "      <td>David</td>\n",
       "      <td>95000</td>\n",
       "      <td>47500.0</td>\n",
       "    </tr>\n",
       "    <tr>\n",
       "      <th>4</th>\n",
       "      <td>Eva</td>\n",
       "      <td>62000</td>\n",
       "      <td>31000.0</td>\n",
       "    </tr>\n",
       "    <tr>\n",
       "      <th>5</th>\n",
       "      <td>Frank</td>\n",
       "      <td>98000</td>\n",
       "      <td>49000.0</td>\n",
       "    </tr>\n",
       "    <tr>\n",
       "      <th>6</th>\n",
       "      <td>Grace</td>\n",
       "      <td>82000</td>\n",
       "      <td>41000.0</td>\n",
       "    </tr>\n",
       "    <tr>\n",
       "      <th>7</th>\n",
       "      <td>Hannah</td>\n",
       "      <td>59000</td>\n",
       "      <td>29500.0</td>\n",
       "    </tr>\n",
       "    <tr>\n",
       "      <th>8</th>\n",
       "      <td>Ian</td>\n",
       "      <td>73000</td>\n",
       "      <td>36500.0</td>\n",
       "    </tr>\n",
       "    <tr>\n",
       "      <th>9</th>\n",
       "      <td>Jack</td>\n",
       "      <td>67000</td>\n",
       "      <td>33500.0</td>\n",
       "    </tr>\n",
       "  </tbody>\n",
       "</table>\n",
       "</div>"
      ]
     },
     "execution_count": 20,
     "metadata": {},
     "output_type": "execute_result"
    }
   ],
   "execution_count": 20
  },
  {
   "metadata": {
    "ExecuteTime": {
     "end_time": "2024-10-03T12:37:56.755580Z",
     "start_time": "2024-10-03T12:37:56.743794Z"
    }
   },
   "cell_type": "code",
   "source": [
    "\"\"\"Query\"\"\"\n",
    "name_df = df.query(\n",
    "    'Name == \"Alice\"'\n",
    ")\n",
    "print(name_df)"
   ],
   "id": "2f12cbae5220cc3f",
   "outputs": [
    {
     "name": "stdout",
     "output_type": "stream",
     "text": [
      "   EmployeeID   Name   Department  Age  Salary    JoinDate    bonus\n",
      "0         101  Alice  Engineering   29   99000  2020-01-15  49500.0\n"
     ]
    }
   ],
   "execution_count": 21
  },
  {
   "metadata": {
    "ExecuteTime": {
     "end_time": "2024-10-03T12:37:57.037982Z",
     "start_time": "2024-10-03T12:37:57.027198Z"
    }
   },
   "cell_type": "code",
   "source": [
    "bonus_df = df.query(\n",
    "    'bonus > 40000'\n",
    ")\n",
    "print(bonus_df)"
   ],
   "id": "7cbe6889b0c5c641",
   "outputs": [
    {
     "name": "stdout",
     "output_type": "stream",
     "text": [
      "   EmployeeID   Name   Department  Age  Salary    JoinDate    bonus\n",
      "0         101  Alice  Engineering   29   99000  2020-01-15  49500.0\n",
      "3         104  David  Engineering   42   95000  2015-06-01  47500.0\n",
      "5         106  Frank           HR   45   98000  2012-04-17  49000.0\n",
      "6         107  Grace  Engineering   26   82000  2022-05-12  41000.0\n"
     ]
    }
   ],
   "execution_count": 22
  },
  {
   "metadata": {
    "ExecuteTime": {
     "end_time": "2024-10-03T12:38:32.749840Z",
     "start_time": "2024-10-03T12:38:32.741391Z"
    }
   },
   "cell_type": "code",
   "source": [
    "bonus_df.set_index('EmployeeID', inplace=True)\n",
    "print(bonus_df)"
   ],
   "id": "f58223cf87baccb8",
   "outputs": [
    {
     "name": "stdout",
     "output_type": "stream",
     "text": [
      "             Name   Department  Age  Salary    JoinDate    bonus\n",
      "EmployeeID                                                      \n",
      "101         Alice  Engineering   29   99000  2020-01-15  49500.0\n",
      "104         David  Engineering   42   95000  2015-06-01  47500.0\n",
      "106         Frank           HR   45   98000  2012-04-17  49000.0\n",
      "107         Grace  Engineering   26   82000  2022-05-12  41000.0\n"
     ]
    }
   ],
   "execution_count": 23
  }
 ],
 "metadata": {
  "kernelspec": {
   "display_name": "Python 3",
   "language": "python",
   "name": "python3"
  },
  "language_info": {
   "codemirror_mode": {
    "name": "ipython",
    "version": 2
   },
   "file_extension": ".py",
   "mimetype": "text/x-python",
   "name": "python",
   "nbconvert_exporter": "python",
   "pygments_lexer": "ipython2",
   "version": "2.7.6"
  }
 },
 "nbformat": 4,
 "nbformat_minor": 5
}
