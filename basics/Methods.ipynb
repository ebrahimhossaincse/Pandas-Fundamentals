{
 "cells": [
  {
   "cell_type": "code",
   "id": "initial_id",
   "metadata": {
    "collapsed": true,
    "ExecuteTime": {
     "end_time": "2024-10-01T19:53:25.263917Z",
     "start_time": "2024-10-01T19:53:25.258301Z"
    }
   },
   "source": [
    "import pandas as pd\n",
    "import numpy as np\n",
    "import os\n",
    "pd.__version__"
   ],
   "outputs": [
    {
     "data": {
      "text/plain": [
       "'2.2.2'"
      ]
     },
     "execution_count": 119,
     "metadata": {},
     "output_type": "execute_result"
    }
   ],
   "execution_count": 119
  },
  {
   "metadata": {
    "ExecuteTime": {
     "end_time": "2024-10-01T19:53:25.300068Z",
     "start_time": "2024-10-01T19:53:25.296245Z"
    }
   },
   "cell_type": "code",
   "source": [
    "root_dir = os.path.dirname(os.getcwd())\n",
    "data_dir = os.path.join(root_dir, 'data')\n",
    "data_set_path = os.path.join(data_dir, 'sales_subset.csv')"
   ],
   "id": "bce47b212f776f9b",
   "outputs": [],
   "execution_count": 120
  },
  {
   "metadata": {
    "ExecuteTime": {
     "end_time": "2024-10-01T19:53:25.352421Z",
     "start_time": "2024-10-01T19:53:25.325219Z"
    }
   },
   "cell_type": "code",
   "source": [
    "\"\"\"Read File\"\"\"\n",
    "sales = pd.read_csv(data_set_path)\n",
    "sales = sales.drop(columns=['Unnamed: 0'])\n",
    "sales.head()"
   ],
   "id": "3d5457968a0f15ec",
   "outputs": [
    {
     "data": {
      "text/plain": [
       "   store type  department        date  weekly_sales  is_holiday  \\\n",
       "0      1    A           1  2010-02-05      24924.50       False   \n",
       "1      1    A           1  2010-03-05      21827.90       False   \n",
       "2      1    A           1  2010-04-02      57258.43       False   \n",
       "3      1    A           1  2010-05-07      17413.94       False   \n",
       "4      1    A           1  2010-06-04      17558.09       False   \n",
       "\n",
       "   temperature_c  fuel_price_usd_per_l  unemployment  \n",
       "0       5.727778              0.679451         8.106  \n",
       "1       8.055556              0.693452         8.106  \n",
       "2      16.816667              0.718284         7.808  \n",
       "3      22.527778              0.748928         7.808  \n",
       "4      27.050000              0.714586         7.808  "
      ],
      "text/html": [
       "<div>\n",
       "<style scoped>\n",
       "    .dataframe tbody tr th:only-of-type {\n",
       "        vertical-align: middle;\n",
       "    }\n",
       "\n",
       "    .dataframe tbody tr th {\n",
       "        vertical-align: top;\n",
       "    }\n",
       "\n",
       "    .dataframe thead th {\n",
       "        text-align: right;\n",
       "    }\n",
       "</style>\n",
       "<table border=\"1\" class=\"dataframe\">\n",
       "  <thead>\n",
       "    <tr style=\"text-align: right;\">\n",
       "      <th></th>\n",
       "      <th>store</th>\n",
       "      <th>type</th>\n",
       "      <th>department</th>\n",
       "      <th>date</th>\n",
       "      <th>weekly_sales</th>\n",
       "      <th>is_holiday</th>\n",
       "      <th>temperature_c</th>\n",
       "      <th>fuel_price_usd_per_l</th>\n",
       "      <th>unemployment</th>\n",
       "    </tr>\n",
       "  </thead>\n",
       "  <tbody>\n",
       "    <tr>\n",
       "      <th>0</th>\n",
       "      <td>1</td>\n",
       "      <td>A</td>\n",
       "      <td>1</td>\n",
       "      <td>2010-02-05</td>\n",
       "      <td>24924.50</td>\n",
       "      <td>False</td>\n",
       "      <td>5.727778</td>\n",
       "      <td>0.679451</td>\n",
       "      <td>8.106</td>\n",
       "    </tr>\n",
       "    <tr>\n",
       "      <th>1</th>\n",
       "      <td>1</td>\n",
       "      <td>A</td>\n",
       "      <td>1</td>\n",
       "      <td>2010-03-05</td>\n",
       "      <td>21827.90</td>\n",
       "      <td>False</td>\n",
       "      <td>8.055556</td>\n",
       "      <td>0.693452</td>\n",
       "      <td>8.106</td>\n",
       "    </tr>\n",
       "    <tr>\n",
       "      <th>2</th>\n",
       "      <td>1</td>\n",
       "      <td>A</td>\n",
       "      <td>1</td>\n",
       "      <td>2010-04-02</td>\n",
       "      <td>57258.43</td>\n",
       "      <td>False</td>\n",
       "      <td>16.816667</td>\n",
       "      <td>0.718284</td>\n",
       "      <td>7.808</td>\n",
       "    </tr>\n",
       "    <tr>\n",
       "      <th>3</th>\n",
       "      <td>1</td>\n",
       "      <td>A</td>\n",
       "      <td>1</td>\n",
       "      <td>2010-05-07</td>\n",
       "      <td>17413.94</td>\n",
       "      <td>False</td>\n",
       "      <td>22.527778</td>\n",
       "      <td>0.748928</td>\n",
       "      <td>7.808</td>\n",
       "    </tr>\n",
       "    <tr>\n",
       "      <th>4</th>\n",
       "      <td>1</td>\n",
       "      <td>A</td>\n",
       "      <td>1</td>\n",
       "      <td>2010-06-04</td>\n",
       "      <td>17558.09</td>\n",
       "      <td>False</td>\n",
       "      <td>27.050000</td>\n",
       "      <td>0.714586</td>\n",
       "      <td>7.808</td>\n",
       "    </tr>\n",
       "  </tbody>\n",
       "</table>\n",
       "</div>"
      ]
     },
     "execution_count": 121,
     "metadata": {},
     "output_type": "execute_result"
    }
   ],
   "execution_count": 121
  },
  {
   "metadata": {
    "ExecuteTime": {
     "end_time": "2024-10-01T19:53:25.411646Z",
     "start_time": "2024-10-01T19:53:25.404527Z"
    }
   },
   "cell_type": "code",
   "source": "sales.info()",
   "id": "91c7e160b1ffb172",
   "outputs": [
    {
     "name": "stdout",
     "output_type": "stream",
     "text": [
      "<class 'pandas.core.frame.DataFrame'>\n",
      "RangeIndex: 10774 entries, 0 to 10773\n",
      "Data columns (total 9 columns):\n",
      " #   Column                Non-Null Count  Dtype  \n",
      "---  ------                --------------  -----  \n",
      " 0   store                 10774 non-null  int64  \n",
      " 1   type                  10774 non-null  object \n",
      " 2   department            10774 non-null  int64  \n",
      " 3   date                  10774 non-null  object \n",
      " 4   weekly_sales          10774 non-null  float64\n",
      " 5   is_holiday            10774 non-null  bool   \n",
      " 6   temperature_c         10774 non-null  float64\n",
      " 7   fuel_price_usd_per_l  10774 non-null  float64\n",
      " 8   unemployment          10774 non-null  float64\n",
      "dtypes: bool(1), float64(4), int64(2), object(2)\n",
      "memory usage: 684.0+ KB\n"
     ]
    }
   ],
   "execution_count": 122
  },
  {
   "metadata": {
    "ExecuteTime": {
     "end_time": "2024-10-01T19:53:25.477697Z",
     "start_time": "2024-10-01T19:53:25.474192Z"
    }
   },
   "cell_type": "code",
   "source": [
    "\"\"\"Methods\"\"\"\n",
    "weekly_sales_avg = sales['weekly_sales']"
   ],
   "id": "94a30df1dae42643",
   "outputs": [],
   "execution_count": 123
  },
  {
   "metadata": {
    "ExecuteTime": {
     "end_time": "2024-10-01T19:53:25.570030Z",
     "start_time": "2024-10-01T19:53:25.565277Z"
    }
   },
   "cell_type": "code",
   "source": [
    "\"\"\"Mean\"\"\"\n",
    "print('Mean: ',weekly_sales_avg.mean())"
   ],
   "id": "40605994dedd036a",
   "outputs": [
    {
     "name": "stdout",
     "output_type": "stream",
     "text": [
      "Mean:  23843.95014850566\n"
     ]
    }
   ],
   "execution_count": 124
  },
  {
   "metadata": {
    "ExecuteTime": {
     "end_time": "2024-10-01T19:53:25.638090Z",
     "start_time": "2024-10-01T19:53:25.634107Z"
    }
   },
   "cell_type": "code",
   "source": [
    "\"\"\"Max\"\"\"\n",
    "print('Max: ',weekly_sales_avg.max())"
   ],
   "id": "97c7ede1165985e",
   "outputs": [
    {
     "name": "stdout",
     "output_type": "stream",
     "text": [
      "Max:  293966.05\n"
     ]
    }
   ],
   "execution_count": 125
  },
  {
   "metadata": {
    "ExecuteTime": {
     "end_time": "2024-10-01T19:53:25.685629Z",
     "start_time": "2024-10-01T19:53:25.681226Z"
    }
   },
   "cell_type": "code",
   "source": [
    "\"\"\"Min\"\"\"\n",
    "print('Min: ',weekly_sales_avg.min())"
   ],
   "id": "28c9b7c28819f60",
   "outputs": [
    {
     "name": "stdout",
     "output_type": "stream",
     "text": [
      "Min:  -1098.0\n"
     ]
    }
   ],
   "execution_count": 126
  },
  {
   "metadata": {
    "ExecuteTime": {
     "end_time": "2024-10-01T19:53:25.735448Z",
     "start_time": "2024-10-01T19:53:25.731943Z"
    }
   },
   "cell_type": "code",
   "source": [
    "\"\"\"Sum\"\"\"\n",
    "print('Sum: ',weekly_sales_avg.sum())"
   ],
   "id": "c3f9090767e070aa",
   "outputs": [
    {
     "name": "stdout",
     "output_type": "stream",
     "text": [
      "Sum:  256894718.89999998\n"
     ]
    }
   ],
   "execution_count": 127
  },
  {
   "metadata": {
    "ExecuteTime": {
     "end_time": "2024-10-01T19:53:25.776929Z",
     "start_time": "2024-10-01T19:53:25.772348Z"
    }
   },
   "cell_type": "code",
   "source": [
    "\"\"\"Median\"\"\"\n",
    "print('Median: ',weekly_sales_avg.median())"
   ],
   "id": "347a79390a5dd5d9",
   "outputs": [
    {
     "name": "stdout",
     "output_type": "stream",
     "text": [
      "Median:  12049.064999999999\n"
     ]
    }
   ],
   "execution_count": 128
  },
  {
   "metadata": {
    "ExecuteTime": {
     "end_time": "2024-10-01T19:53:25.829954Z",
     "start_time": "2024-10-01T19:53:25.823190Z"
    }
   },
   "cell_type": "code",
   "source": [
    "\"\"\"cumulative sum\"\"\"\n",
    "print('Cumulative Sum: ',weekly_sales_avg.cumsum())"
   ],
   "id": "9c615d1e255a5192",
   "outputs": [
    {
     "name": "stdout",
     "output_type": "stream",
     "text": [
      "Cumulative Sum:  0        2.492450e+04\n",
      "1        4.675240e+04\n",
      "2        1.040108e+05\n",
      "3        1.214248e+05\n",
      "4        1.389829e+05\n",
      "             ...     \n",
      "10769    2.568930e+08\n",
      "10770    2.568934e+08\n",
      "10771    2.568938e+08\n",
      "10772    2.568938e+08\n",
      "10773    2.568947e+08\n",
      "Name: weekly_sales, Length: 10774, dtype: float64\n"
     ]
    }
   ],
   "execution_count": 129
  },
  {
   "metadata": {
    "ExecuteTime": {
     "end_time": "2024-10-01T19:53:25.892721Z",
     "start_time": "2024-10-01T19:53:25.885504Z"
    }
   },
   "cell_type": "code",
   "source": [
    "\"\"\"Used Multiple Columns\"\"\"\n",
    "sales[['weekly_sales', 'fuel_price_usd_per_l']].mean()"
   ],
   "id": "fd7c9ee2ea96dcbb",
   "outputs": [
    {
     "data": {
      "text/plain": [
       "weekly_sales            23843.950149\n",
       "fuel_price_usd_per_l        0.749746\n",
       "dtype: float64"
      ]
     },
     "execution_count": 130,
     "metadata": {},
     "output_type": "execute_result"
    }
   ],
   "execution_count": 130
  },
  {
   "metadata": {
    "ExecuteTime": {
     "end_time": "2024-10-01T19:53:25.964157Z",
     "start_time": "2024-10-01T19:53:25.950251Z"
    }
   },
   "cell_type": "code",
   "source": [
    "\"\"\"Aggregate  Function\"\"\"\n",
    "sales[['weekly_sales', 'temperature_c', 'fuel_price_usd_per_l']].agg([np.max, np.min, np.sum, np.mean, np.median])"
   ],
   "id": "c1d89a958c7bcefd",
   "outputs": [
    {
     "name": "stderr",
     "output_type": "stream",
     "text": [
      "C:\\Users\\Asus\\AppData\\Local\\Temp\\ipykernel_12868\\2730766756.py:2: FutureWarning: The provided callable <function max at 0x0000018F551102C0> is currently using Series.max. In a future version of pandas, the provided callable will be used directly. To keep current behavior pass the string \"max\" instead.\n",
      "  sales[['weekly_sales', 'temperature_c', 'fuel_price_usd_per_l']].agg([np.max, np.min, np.sum, np.mean, np.median])\n",
      "C:\\Users\\Asus\\AppData\\Local\\Temp\\ipykernel_12868\\2730766756.py:2: FutureWarning: The provided callable <function min at 0x0000018F55110400> is currently using Series.min. In a future version of pandas, the provided callable will be used directly. To keep current behavior pass the string \"min\" instead.\n",
      "  sales[['weekly_sales', 'temperature_c', 'fuel_price_usd_per_l']].agg([np.max, np.min, np.sum, np.mean, np.median])\n",
      "C:\\Users\\Asus\\AppData\\Local\\Temp\\ipykernel_12868\\2730766756.py:2: FutureWarning: The provided callable <function sum at 0x0000018F550E3BA0> is currently using Series.sum. In a future version of pandas, the provided callable will be used directly. To keep current behavior pass the string \"sum\" instead.\n",
      "  sales[['weekly_sales', 'temperature_c', 'fuel_price_usd_per_l']].agg([np.max, np.min, np.sum, np.mean, np.median])\n",
      "C:\\Users\\Asus\\AppData\\Local\\Temp\\ipykernel_12868\\2730766756.py:2: FutureWarning: The provided callable <function mean at 0x0000018F55110CC0> is currently using Series.mean. In a future version of pandas, the provided callable will be used directly. To keep current behavior pass the string \"mean\" instead.\n",
      "  sales[['weekly_sales', 'temperature_c', 'fuel_price_usd_per_l']].agg([np.max, np.min, np.sum, np.mean, np.median])\n",
      "C:\\Users\\Asus\\AppData\\Local\\Temp\\ipykernel_12868\\2730766756.py:2: FutureWarning: The provided callable <function median at 0x0000018F55254900> is currently using Series.median. In a future version of pandas, the provided callable will be used directly. To keep current behavior pass the string \"median\" instead.\n",
      "  sales[['weekly_sales', 'temperature_c', 'fuel_price_usd_per_l']].agg([np.max, np.min, np.sum, np.mean, np.median])\n"
     ]
    },
    {
     "data": {
      "text/plain": [
       "        weekly_sales  temperature_c  fuel_price_usd_per_l\n",
       "max     2.939660e+05      33.827778              1.107674\n",
       "min    -1.098000e+03      -8.366667              0.664129\n",
       "sum     2.568947e+08  169496.333333           8077.761722\n",
       "mean    2.384395e+04      15.731978              0.749746\n",
       "median  1.204906e+04      16.966667              0.743381"
      ],
      "text/html": [
       "<div>\n",
       "<style scoped>\n",
       "    .dataframe tbody tr th:only-of-type {\n",
       "        vertical-align: middle;\n",
       "    }\n",
       "\n",
       "    .dataframe tbody tr th {\n",
       "        vertical-align: top;\n",
       "    }\n",
       "\n",
       "    .dataframe thead th {\n",
       "        text-align: right;\n",
       "    }\n",
       "</style>\n",
       "<table border=\"1\" class=\"dataframe\">\n",
       "  <thead>\n",
       "    <tr style=\"text-align: right;\">\n",
       "      <th></th>\n",
       "      <th>weekly_sales</th>\n",
       "      <th>temperature_c</th>\n",
       "      <th>fuel_price_usd_per_l</th>\n",
       "    </tr>\n",
       "  </thead>\n",
       "  <tbody>\n",
       "    <tr>\n",
       "      <th>max</th>\n",
       "      <td>2.939660e+05</td>\n",
       "      <td>33.827778</td>\n",
       "      <td>1.107674</td>\n",
       "    </tr>\n",
       "    <tr>\n",
       "      <th>min</th>\n",
       "      <td>-1.098000e+03</td>\n",
       "      <td>-8.366667</td>\n",
       "      <td>0.664129</td>\n",
       "    </tr>\n",
       "    <tr>\n",
       "      <th>sum</th>\n",
       "      <td>2.568947e+08</td>\n",
       "      <td>169496.333333</td>\n",
       "      <td>8077.761722</td>\n",
       "    </tr>\n",
       "    <tr>\n",
       "      <th>mean</th>\n",
       "      <td>2.384395e+04</td>\n",
       "      <td>15.731978</td>\n",
       "      <td>0.749746</td>\n",
       "    </tr>\n",
       "    <tr>\n",
       "      <th>median</th>\n",
       "      <td>1.204906e+04</td>\n",
       "      <td>16.966667</td>\n",
       "      <td>0.743381</td>\n",
       "    </tr>\n",
       "  </tbody>\n",
       "</table>\n",
       "</div>"
      ]
     },
     "execution_count": 131,
     "metadata": {},
     "output_type": "execute_result"
    }
   ],
   "execution_count": 131
  },
  {
   "metadata": {
    "ExecuteTime": {
     "end_time": "2024-10-01T19:53:26.102249Z",
     "start_time": "2024-10-01T19:53:26.095796Z"
    }
   },
   "cell_type": "code",
   "source": [
    "\"\"\"Categorical Values\"\"\"\n",
    "sales['type'].value_counts()"
   ],
   "id": "70aa8a3d1754c100",
   "outputs": [
    {
     "data": {
      "text/plain": [
       "type\n",
       "A    9872\n",
       "B     902\n",
       "Name: count, dtype: int64"
      ]
     },
     "execution_count": 132,
     "metadata": {},
     "output_type": "execute_result"
    }
   ],
   "execution_count": 132
  },
  {
   "metadata": {
    "ExecuteTime": {
     "end_time": "2024-10-01T19:53:26.255425Z",
     "start_time": "2024-10-01T19:53:26.249397Z"
    }
   },
   "cell_type": "code",
   "source": "sales['store'].value_counts(ascending=True)",
   "id": "ff95f26ba6c368ed",
   "outputs": [
    {
     "data": {
      "text/plain": [
       "store\n",
       "39    875\n",
       "14    885\n",
       "31    890\n",
       "6     894\n",
       "2     897\n",
       "27    900\n",
       "1     901\n",
       "4     901\n",
       "10    902\n",
       "19    906\n",
       "20    910\n",
       "13    913\n",
       "Name: count, dtype: int64"
      ]
     },
     "execution_count": 133,
     "metadata": {},
     "output_type": "execute_result"
    }
   ],
   "execution_count": 133
  },
  {
   "metadata": {
    "ExecuteTime": {
     "end_time": "2024-10-01T19:53:26.407560Z",
     "start_time": "2024-10-01T19:53:26.399264Z"
    }
   },
   "cell_type": "code",
   "source": [
    "\"\"\"Group by\"\"\"\n",
    "sales_grouped_by = sales.groupby(['type'])\n",
    "sales_grouped_by[['weekly_sales']].sum()"
   ],
   "id": "6ddbe33f35c2587d",
   "outputs": [
    {
     "data": {
      "text/plain": [
       "      weekly_sales\n",
       "type              \n",
       "A     2.337163e+08\n",
       "B     2.317840e+07"
      ],
      "text/html": [
       "<div>\n",
       "<style scoped>\n",
       "    .dataframe tbody tr th:only-of-type {\n",
       "        vertical-align: middle;\n",
       "    }\n",
       "\n",
       "    .dataframe tbody tr th {\n",
       "        vertical-align: top;\n",
       "    }\n",
       "\n",
       "    .dataframe thead th {\n",
       "        text-align: right;\n",
       "    }\n",
       "</style>\n",
       "<table border=\"1\" class=\"dataframe\">\n",
       "  <thead>\n",
       "    <tr style=\"text-align: right;\">\n",
       "      <th></th>\n",
       "      <th>weekly_sales</th>\n",
       "    </tr>\n",
       "    <tr>\n",
       "      <th>type</th>\n",
       "      <th></th>\n",
       "    </tr>\n",
       "  </thead>\n",
       "  <tbody>\n",
       "    <tr>\n",
       "      <th>A</th>\n",
       "      <td>2.337163e+08</td>\n",
       "    </tr>\n",
       "    <tr>\n",
       "      <th>B</th>\n",
       "      <td>2.317840e+07</td>\n",
       "    </tr>\n",
       "  </tbody>\n",
       "</table>\n",
       "</div>"
      ]
     },
     "execution_count": 134,
     "metadata": {},
     "output_type": "execute_result"
    }
   ],
   "execution_count": 134
  },
  {
   "metadata": {
    "ExecuteTime": {
     "end_time": "2024-10-01T19:53:26.564485Z",
     "start_time": "2024-10-01T19:53:26.553783Z"
    }
   },
   "cell_type": "code",
   "source": [
    "sales_by_type_holiday = sales.groupby(['type', 'is_holiday'])\n",
    "sales_by_type_holiday[['weekly_sales']].sum()"
   ],
   "id": "45eecb24b270b95f",
   "outputs": [
    {
     "data": {
      "text/plain": [
       "                 weekly_sales\n",
       "type is_holiday              \n",
       "A    False       2.336927e+08\n",
       "     True        2.360181e+04\n",
       "B    False       2.317678e+07\n",
       "     True        1.621410e+03"
      ],
      "text/html": [
       "<div>\n",
       "<style scoped>\n",
       "    .dataframe tbody tr th:only-of-type {\n",
       "        vertical-align: middle;\n",
       "    }\n",
       "\n",
       "    .dataframe tbody tr th {\n",
       "        vertical-align: top;\n",
       "    }\n",
       "\n",
       "    .dataframe thead th {\n",
       "        text-align: right;\n",
       "    }\n",
       "</style>\n",
       "<table border=\"1\" class=\"dataframe\">\n",
       "  <thead>\n",
       "    <tr style=\"text-align: right;\">\n",
       "      <th></th>\n",
       "      <th></th>\n",
       "      <th>weekly_sales</th>\n",
       "    </tr>\n",
       "    <tr>\n",
       "      <th>type</th>\n",
       "      <th>is_holiday</th>\n",
       "      <th></th>\n",
       "    </tr>\n",
       "  </thead>\n",
       "  <tbody>\n",
       "    <tr>\n",
       "      <th rowspan=\"2\" valign=\"top\">A</th>\n",
       "      <th>False</th>\n",
       "      <td>2.336927e+08</td>\n",
       "    </tr>\n",
       "    <tr>\n",
       "      <th>True</th>\n",
       "      <td>2.360181e+04</td>\n",
       "    </tr>\n",
       "    <tr>\n",
       "      <th rowspan=\"2\" valign=\"top\">B</th>\n",
       "      <th>False</th>\n",
       "      <td>2.317678e+07</td>\n",
       "    </tr>\n",
       "    <tr>\n",
       "      <th>True</th>\n",
       "      <td>1.621410e+03</td>\n",
       "    </tr>\n",
       "  </tbody>\n",
       "</table>\n",
       "</div>"
      ]
     },
     "execution_count": 135,
     "metadata": {},
     "output_type": "execute_result"
    }
   ],
   "execution_count": 135
  },
  {
   "metadata": {
    "ExecuteTime": {
     "end_time": "2024-10-01T19:53:26.685924Z",
     "start_time": "2024-10-01T19:53:26.675052Z"
    }
   },
   "cell_type": "code",
   "source": [
    "sales_grouped_by_weekly = sales.groupby(\"type\")['weekly_sales'].agg([np.min, np.max, np.sum, np.mean, np.median])\n",
    "sales_grouped_by_weekly"
   ],
   "id": "45e4b6e07dcafbd0",
   "outputs": [
    {
     "name": "stderr",
     "output_type": "stream",
     "text": [
      "C:\\Users\\Asus\\AppData\\Local\\Temp\\ipykernel_12868\\4114064010.py:1: FutureWarning: The provided callable <function min at 0x0000018F55110400> is currently using SeriesGroupBy.min. In a future version of pandas, the provided callable will be used directly. To keep current behavior pass the string \"min\" instead.\n",
      "  sales_grouped_by_weekly = sales.groupby(\"type\")['weekly_sales'].agg([np.min, np.max, np.sum, np.mean, np.median])\n",
      "C:\\Users\\Asus\\AppData\\Local\\Temp\\ipykernel_12868\\4114064010.py:1: FutureWarning: The provided callable <function max at 0x0000018F551102C0> is currently using SeriesGroupBy.max. In a future version of pandas, the provided callable will be used directly. To keep current behavior pass the string \"max\" instead.\n",
      "  sales_grouped_by_weekly = sales.groupby(\"type\")['weekly_sales'].agg([np.min, np.max, np.sum, np.mean, np.median])\n",
      "C:\\Users\\Asus\\AppData\\Local\\Temp\\ipykernel_12868\\4114064010.py:1: FutureWarning: The provided callable <function sum at 0x0000018F550E3BA0> is currently using SeriesGroupBy.sum. In a future version of pandas, the provided callable will be used directly. To keep current behavior pass the string \"sum\" instead.\n",
      "  sales_grouped_by_weekly = sales.groupby(\"type\")['weekly_sales'].agg([np.min, np.max, np.sum, np.mean, np.median])\n",
      "C:\\Users\\Asus\\AppData\\Local\\Temp\\ipykernel_12868\\4114064010.py:1: FutureWarning: The provided callable <function mean at 0x0000018F55110CC0> is currently using SeriesGroupBy.mean. In a future version of pandas, the provided callable will be used directly. To keep current behavior pass the string \"mean\" instead.\n",
      "  sales_grouped_by_weekly = sales.groupby(\"type\")['weekly_sales'].agg([np.min, np.max, np.sum, np.mean, np.median])\n",
      "C:\\Users\\Asus\\AppData\\Local\\Temp\\ipykernel_12868\\4114064010.py:1: FutureWarning: The provided callable <function median at 0x0000018F55254900> is currently using SeriesGroupBy.median. In a future version of pandas, the provided callable will be used directly. To keep current behavior pass the string \"median\" instead.\n",
      "  sales_grouped_by_weekly = sales.groupby(\"type\")['weekly_sales'].agg([np.min, np.max, np.sum, np.mean, np.median])\n"
     ]
    },
    {
     "data": {
      "text/plain": [
       "         min        max           sum          mean    median\n",
       "type                                                         \n",
       "A    -1098.0  293966.05  2.337163e+08  23674.667242  11943.92\n",
       "B     -798.0  232558.51  2.317840e+07  25696.678370  13336.08"
      ],
      "text/html": [
       "<div>\n",
       "<style scoped>\n",
       "    .dataframe tbody tr th:only-of-type {\n",
       "        vertical-align: middle;\n",
       "    }\n",
       "\n",
       "    .dataframe tbody tr th {\n",
       "        vertical-align: top;\n",
       "    }\n",
       "\n",
       "    .dataframe thead th {\n",
       "        text-align: right;\n",
       "    }\n",
       "</style>\n",
       "<table border=\"1\" class=\"dataframe\">\n",
       "  <thead>\n",
       "    <tr style=\"text-align: right;\">\n",
       "      <th></th>\n",
       "      <th>min</th>\n",
       "      <th>max</th>\n",
       "      <th>sum</th>\n",
       "      <th>mean</th>\n",
       "      <th>median</th>\n",
       "    </tr>\n",
       "    <tr>\n",
       "      <th>type</th>\n",
       "      <th></th>\n",
       "      <th></th>\n",
       "      <th></th>\n",
       "      <th></th>\n",
       "      <th></th>\n",
       "    </tr>\n",
       "  </thead>\n",
       "  <tbody>\n",
       "    <tr>\n",
       "      <th>A</th>\n",
       "      <td>-1098.0</td>\n",
       "      <td>293966.05</td>\n",
       "      <td>2.337163e+08</td>\n",
       "      <td>23674.667242</td>\n",
       "      <td>11943.92</td>\n",
       "    </tr>\n",
       "    <tr>\n",
       "      <th>B</th>\n",
       "      <td>-798.0</td>\n",
       "      <td>232558.51</td>\n",
       "      <td>2.317840e+07</td>\n",
       "      <td>25696.678370</td>\n",
       "      <td>13336.08</td>\n",
       "    </tr>\n",
       "  </tbody>\n",
       "</table>\n",
       "</div>"
      ]
     },
     "execution_count": 136,
     "metadata": {},
     "output_type": "execute_result"
    }
   ],
   "execution_count": 136
  },
  {
   "metadata": {
    "ExecuteTime": {
     "end_time": "2024-10-01T19:53:26.864336Z",
     "start_time": "2024-10-01T19:53:26.836287Z"
    }
   },
   "cell_type": "code",
   "source": [
    "\"\"\"Pivot Table\"\"\"\n",
    "sales.head()\n",
    "sales.pivot_table(\n",
    "    values=['weekly_sales', 'fuel_price_usd_per_l'],\n",
    "    index=['type'],\n",
    "    aggfunc=[np.sum, np.max, np.min, np.mean, np.std]\n",
    ")"
   ],
   "id": "4fbb43b93d440319",
   "outputs": [
    {
     "name": "stderr",
     "output_type": "stream",
     "text": [
      "C:\\Users\\Asus\\AppData\\Local\\Temp\\ipykernel_12868\\2470836337.py:3: FutureWarning: The provided callable <function sum at 0x0000018F550E3BA0> is currently using DataFrameGroupBy.sum. In a future version of pandas, the provided callable will be used directly. To keep current behavior pass the string \"sum\" instead.\n",
      "  sales.pivot_table(\n",
      "C:\\Users\\Asus\\AppData\\Local\\Temp\\ipykernel_12868\\2470836337.py:3: FutureWarning: The provided callable <function max at 0x0000018F551102C0> is currently using DataFrameGroupBy.max. In a future version of pandas, the provided callable will be used directly. To keep current behavior pass the string \"max\" instead.\n",
      "  sales.pivot_table(\n",
      "C:\\Users\\Asus\\AppData\\Local\\Temp\\ipykernel_12868\\2470836337.py:3: FutureWarning: The provided callable <function min at 0x0000018F55110400> is currently using DataFrameGroupBy.min. In a future version of pandas, the provided callable will be used directly. To keep current behavior pass the string \"min\" instead.\n",
      "  sales.pivot_table(\n",
      "C:\\Users\\Asus\\AppData\\Local\\Temp\\ipykernel_12868\\2470836337.py:3: FutureWarning: The provided callable <function mean at 0x0000018F55110CC0> is currently using DataFrameGroupBy.mean. In a future version of pandas, the provided callable will be used directly. To keep current behavior pass the string \"mean\" instead.\n",
      "  sales.pivot_table(\n",
      "C:\\Users\\Asus\\AppData\\Local\\Temp\\ipykernel_12868\\2470836337.py:3: FutureWarning: The provided callable <function std at 0x0000018F55110E00> is currently using DataFrameGroupBy.std. In a future version of pandas, the provided callable will be used directly. To keep current behavior pass the string \"std\" instead.\n",
      "  sales.pivot_table(\n"
     ]
    },
    {
     "data": {
      "text/plain": [
       "                      sum                                max               \\\n",
       "     fuel_price_usd_per_l  weekly_sales fuel_price_usd_per_l weekly_sales   \n",
       "type                                                                        \n",
       "A             7350.877448  2.337163e+08             1.107410    293966.05   \n",
       "B              726.884274  2.317840e+07             1.107674    232558.51   \n",
       "\n",
       "                      min                              mean                \\\n",
       "     fuel_price_usd_per_l weekly_sales fuel_price_usd_per_l  weekly_sales   \n",
       "type                                                                        \n",
       "A                0.664129      -1098.0             0.744619  23674.667242   \n",
       "B                0.760023       -798.0             0.805858  25696.678370   \n",
       "\n",
       "                      std                \n",
       "     fuel_price_usd_per_l  weekly_sales  \n",
       "type                                     \n",
       "A                0.058674  30129.407656  \n",
       "B                0.034115  31155.867745  "
      ],
      "text/html": [
       "<div>\n",
       "<style scoped>\n",
       "    .dataframe tbody tr th:only-of-type {\n",
       "        vertical-align: middle;\n",
       "    }\n",
       "\n",
       "    .dataframe tbody tr th {\n",
       "        vertical-align: top;\n",
       "    }\n",
       "\n",
       "    .dataframe thead tr th {\n",
       "        text-align: left;\n",
       "    }\n",
       "\n",
       "    .dataframe thead tr:last-of-type th {\n",
       "        text-align: right;\n",
       "    }\n",
       "</style>\n",
       "<table border=\"1\" class=\"dataframe\">\n",
       "  <thead>\n",
       "    <tr>\n",
       "      <th></th>\n",
       "      <th colspan=\"2\" halign=\"left\">sum</th>\n",
       "      <th colspan=\"2\" halign=\"left\">max</th>\n",
       "      <th colspan=\"2\" halign=\"left\">min</th>\n",
       "      <th colspan=\"2\" halign=\"left\">mean</th>\n",
       "      <th colspan=\"2\" halign=\"left\">std</th>\n",
       "    </tr>\n",
       "    <tr>\n",
       "      <th></th>\n",
       "      <th>fuel_price_usd_per_l</th>\n",
       "      <th>weekly_sales</th>\n",
       "      <th>fuel_price_usd_per_l</th>\n",
       "      <th>weekly_sales</th>\n",
       "      <th>fuel_price_usd_per_l</th>\n",
       "      <th>weekly_sales</th>\n",
       "      <th>fuel_price_usd_per_l</th>\n",
       "      <th>weekly_sales</th>\n",
       "      <th>fuel_price_usd_per_l</th>\n",
       "      <th>weekly_sales</th>\n",
       "    </tr>\n",
       "    <tr>\n",
       "      <th>type</th>\n",
       "      <th></th>\n",
       "      <th></th>\n",
       "      <th></th>\n",
       "      <th></th>\n",
       "      <th></th>\n",
       "      <th></th>\n",
       "      <th></th>\n",
       "      <th></th>\n",
       "      <th></th>\n",
       "      <th></th>\n",
       "    </tr>\n",
       "  </thead>\n",
       "  <tbody>\n",
       "    <tr>\n",
       "      <th>A</th>\n",
       "      <td>7350.877448</td>\n",
       "      <td>2.337163e+08</td>\n",
       "      <td>1.107410</td>\n",
       "      <td>293966.05</td>\n",
       "      <td>0.664129</td>\n",
       "      <td>-1098.0</td>\n",
       "      <td>0.744619</td>\n",
       "      <td>23674.667242</td>\n",
       "      <td>0.058674</td>\n",
       "      <td>30129.407656</td>\n",
       "    </tr>\n",
       "    <tr>\n",
       "      <th>B</th>\n",
       "      <td>726.884274</td>\n",
       "      <td>2.317840e+07</td>\n",
       "      <td>1.107674</td>\n",
       "      <td>232558.51</td>\n",
       "      <td>0.760023</td>\n",
       "      <td>-798.0</td>\n",
       "      <td>0.805858</td>\n",
       "      <td>25696.678370</td>\n",
       "      <td>0.034115</td>\n",
       "      <td>31155.867745</td>\n",
       "    </tr>\n",
       "  </tbody>\n",
       "</table>\n",
       "</div>"
      ]
     },
     "execution_count": 137,
     "metadata": {},
     "output_type": "execute_result"
    }
   ],
   "execution_count": 137
  },
  {
   "metadata": {
    "ExecuteTime": {
     "end_time": "2024-10-01T19:53:27.036446Z",
     "start_time": "2024-10-01T19:53:27.011451Z"
    }
   },
   "cell_type": "code",
   "source": [
    "data_set_path = os.path.join(data_dir, 'temperatures.csv')\n",
    "temperatures = pd.read_csv(data_set_path)\n",
    "temperatures"
   ],
   "id": "36533915d70772fa",
   "outputs": [
    {
     "data": {
      "text/plain": [
       "       Unnamed: 0        date     city        country  avg_temp_c\n",
       "0               0  2000-01-01  Abidjan  Côte D'Ivoire      27.293\n",
       "1               1  2000-02-01  Abidjan  Côte D'Ivoire      27.685\n",
       "2               2  2000-03-01  Abidjan  Côte D'Ivoire      29.061\n",
       "3               3  2000-04-01  Abidjan  Côte D'Ivoire      28.162\n",
       "4               4  2000-05-01  Abidjan  Côte D'Ivoire      27.547\n",
       "...           ...         ...      ...            ...         ...\n",
       "16495       16495  2013-05-01     Xian          China      18.979\n",
       "16496       16496  2013-06-01     Xian          China      23.522\n",
       "16497       16497  2013-07-01     Xian          China      25.251\n",
       "16498       16498  2013-08-01     Xian          China      24.528\n",
       "16499       16499  2013-09-01     Xian          China         NaN\n",
       "\n",
       "[16500 rows x 5 columns]"
      ],
      "text/html": [
       "<div>\n",
       "<style scoped>\n",
       "    .dataframe tbody tr th:only-of-type {\n",
       "        vertical-align: middle;\n",
       "    }\n",
       "\n",
       "    .dataframe tbody tr th {\n",
       "        vertical-align: top;\n",
       "    }\n",
       "\n",
       "    .dataframe thead th {\n",
       "        text-align: right;\n",
       "    }\n",
       "</style>\n",
       "<table border=\"1\" class=\"dataframe\">\n",
       "  <thead>\n",
       "    <tr style=\"text-align: right;\">\n",
       "      <th></th>\n",
       "      <th>Unnamed: 0</th>\n",
       "      <th>date</th>\n",
       "      <th>city</th>\n",
       "      <th>country</th>\n",
       "      <th>avg_temp_c</th>\n",
       "    </tr>\n",
       "  </thead>\n",
       "  <tbody>\n",
       "    <tr>\n",
       "      <th>0</th>\n",
       "      <td>0</td>\n",
       "      <td>2000-01-01</td>\n",
       "      <td>Abidjan</td>\n",
       "      <td>Côte D'Ivoire</td>\n",
       "      <td>27.293</td>\n",
       "    </tr>\n",
       "    <tr>\n",
       "      <th>1</th>\n",
       "      <td>1</td>\n",
       "      <td>2000-02-01</td>\n",
       "      <td>Abidjan</td>\n",
       "      <td>Côte D'Ivoire</td>\n",
       "      <td>27.685</td>\n",
       "    </tr>\n",
       "    <tr>\n",
       "      <th>2</th>\n",
       "      <td>2</td>\n",
       "      <td>2000-03-01</td>\n",
       "      <td>Abidjan</td>\n",
       "      <td>Côte D'Ivoire</td>\n",
       "      <td>29.061</td>\n",
       "    </tr>\n",
       "    <tr>\n",
       "      <th>3</th>\n",
       "      <td>3</td>\n",
       "      <td>2000-04-01</td>\n",
       "      <td>Abidjan</td>\n",
       "      <td>Côte D'Ivoire</td>\n",
       "      <td>28.162</td>\n",
       "    </tr>\n",
       "    <tr>\n",
       "      <th>4</th>\n",
       "      <td>4</td>\n",
       "      <td>2000-05-01</td>\n",
       "      <td>Abidjan</td>\n",
       "      <td>Côte D'Ivoire</td>\n",
       "      <td>27.547</td>\n",
       "    </tr>\n",
       "    <tr>\n",
       "      <th>...</th>\n",
       "      <td>...</td>\n",
       "      <td>...</td>\n",
       "      <td>...</td>\n",
       "      <td>...</td>\n",
       "      <td>...</td>\n",
       "    </tr>\n",
       "    <tr>\n",
       "      <th>16495</th>\n",
       "      <td>16495</td>\n",
       "      <td>2013-05-01</td>\n",
       "      <td>Xian</td>\n",
       "      <td>China</td>\n",
       "      <td>18.979</td>\n",
       "    </tr>\n",
       "    <tr>\n",
       "      <th>16496</th>\n",
       "      <td>16496</td>\n",
       "      <td>2013-06-01</td>\n",
       "      <td>Xian</td>\n",
       "      <td>China</td>\n",
       "      <td>23.522</td>\n",
       "    </tr>\n",
       "    <tr>\n",
       "      <th>16497</th>\n",
       "      <td>16497</td>\n",
       "      <td>2013-07-01</td>\n",
       "      <td>Xian</td>\n",
       "      <td>China</td>\n",
       "      <td>25.251</td>\n",
       "    </tr>\n",
       "    <tr>\n",
       "      <th>16498</th>\n",
       "      <td>16498</td>\n",
       "      <td>2013-08-01</td>\n",
       "      <td>Xian</td>\n",
       "      <td>China</td>\n",
       "      <td>24.528</td>\n",
       "    </tr>\n",
       "    <tr>\n",
       "      <th>16499</th>\n",
       "      <td>16499</td>\n",
       "      <td>2013-09-01</td>\n",
       "      <td>Xian</td>\n",
       "      <td>China</td>\n",
       "      <td>NaN</td>\n",
       "    </tr>\n",
       "  </tbody>\n",
       "</table>\n",
       "<p>16500 rows × 5 columns</p>\n",
       "</div>"
      ]
     },
     "execution_count": 138,
     "metadata": {},
     "output_type": "execute_result"
    }
   ],
   "execution_count": 138
  },
  {
   "metadata": {
    "ExecuteTime": {
     "end_time": "2024-10-01T19:53:27.237582Z",
     "start_time": "2024-10-01T19:53:27.233135Z"
    }
   },
   "cell_type": "code",
   "source": "temperatures.index",
   "id": "4c65f782e96ba2bf",
   "outputs": [
    {
     "data": {
      "text/plain": [
       "RangeIndex(start=0, stop=16500, step=1)"
      ]
     },
     "execution_count": 139,
     "metadata": {},
     "output_type": "execute_result"
    }
   ],
   "execution_count": 139
  },
  {
   "metadata": {
    "ExecuteTime": {
     "end_time": "2024-10-01T19:53:27.486072Z",
     "start_time": "2024-10-01T19:53:27.474381Z"
    }
   },
   "cell_type": "code",
   "source": [
    "temperatures_set_by_index_city = temperatures.set_index('city')\n",
    "temperatures_set_by_index_city.head()"
   ],
   "id": "e5af2916f6d06647",
   "outputs": [
    {
     "data": {
      "text/plain": [
       "         Unnamed: 0        date        country  avg_temp_c\n",
       "city                                                      \n",
       "Abidjan           0  2000-01-01  Côte D'Ivoire      27.293\n",
       "Abidjan           1  2000-02-01  Côte D'Ivoire      27.685\n",
       "Abidjan           2  2000-03-01  Côte D'Ivoire      29.061\n",
       "Abidjan           3  2000-04-01  Côte D'Ivoire      28.162\n",
       "Abidjan           4  2000-05-01  Côte D'Ivoire      27.547"
      ],
      "text/html": [
       "<div>\n",
       "<style scoped>\n",
       "    .dataframe tbody tr th:only-of-type {\n",
       "        vertical-align: middle;\n",
       "    }\n",
       "\n",
       "    .dataframe tbody tr th {\n",
       "        vertical-align: top;\n",
       "    }\n",
       "\n",
       "    .dataframe thead th {\n",
       "        text-align: right;\n",
       "    }\n",
       "</style>\n",
       "<table border=\"1\" class=\"dataframe\">\n",
       "  <thead>\n",
       "    <tr style=\"text-align: right;\">\n",
       "      <th></th>\n",
       "      <th>Unnamed: 0</th>\n",
       "      <th>date</th>\n",
       "      <th>country</th>\n",
       "      <th>avg_temp_c</th>\n",
       "    </tr>\n",
       "    <tr>\n",
       "      <th>city</th>\n",
       "      <th></th>\n",
       "      <th></th>\n",
       "      <th></th>\n",
       "      <th></th>\n",
       "    </tr>\n",
       "  </thead>\n",
       "  <tbody>\n",
       "    <tr>\n",
       "      <th>Abidjan</th>\n",
       "      <td>0</td>\n",
       "      <td>2000-01-01</td>\n",
       "      <td>Côte D'Ivoire</td>\n",
       "      <td>27.293</td>\n",
       "    </tr>\n",
       "    <tr>\n",
       "      <th>Abidjan</th>\n",
       "      <td>1</td>\n",
       "      <td>2000-02-01</td>\n",
       "      <td>Côte D'Ivoire</td>\n",
       "      <td>27.685</td>\n",
       "    </tr>\n",
       "    <tr>\n",
       "      <th>Abidjan</th>\n",
       "      <td>2</td>\n",
       "      <td>2000-03-01</td>\n",
       "      <td>Côte D'Ivoire</td>\n",
       "      <td>29.061</td>\n",
       "    </tr>\n",
       "    <tr>\n",
       "      <th>Abidjan</th>\n",
       "      <td>3</td>\n",
       "      <td>2000-04-01</td>\n",
       "      <td>Côte D'Ivoire</td>\n",
       "      <td>28.162</td>\n",
       "    </tr>\n",
       "    <tr>\n",
       "      <th>Abidjan</th>\n",
       "      <td>4</td>\n",
       "      <td>2000-05-01</td>\n",
       "      <td>Côte D'Ivoire</td>\n",
       "      <td>27.547</td>\n",
       "    </tr>\n",
       "  </tbody>\n",
       "</table>\n",
       "</div>"
      ]
     },
     "execution_count": 140,
     "metadata": {},
     "output_type": "execute_result"
    }
   ],
   "execution_count": 140
  },
  {
   "metadata": {
    "ExecuteTime": {
     "end_time": "2024-10-01T19:53:27.640821Z",
     "start_time": "2024-10-01T19:53:27.634695Z"
    }
   },
   "cell_type": "code",
   "source": "temperatures_set_by_index_city.index",
   "id": "44020e0ebea01697",
   "outputs": [
    {
     "data": {
      "text/plain": [
       "Index(['Abidjan', 'Abidjan', 'Abidjan', 'Abidjan', 'Abidjan', 'Abidjan',\n",
       "       'Abidjan', 'Abidjan', 'Abidjan', 'Abidjan',\n",
       "       ...\n",
       "       'Xian', 'Xian', 'Xian', 'Xian', 'Xian', 'Xian', 'Xian', 'Xian', 'Xian',\n",
       "       'Xian'],\n",
       "      dtype='object', name='city', length=16500)"
      ]
     },
     "execution_count": 141,
     "metadata": {},
     "output_type": "execute_result"
    }
   ],
   "execution_count": 141
  },
  {
   "metadata": {
    "ExecuteTime": {
     "end_time": "2024-10-01T19:53:27.867559Z",
     "start_time": "2024-10-01T19:53:27.849557Z"
    }
   },
   "cell_type": "code",
   "source": [
    "cities=['Xian']\n",
    "temperatures_set_by_index_city.loc[cities].head()"
   ],
   "id": "fdf0d75e6b609840",
   "outputs": [
    {
     "data": {
      "text/plain": [
       "      Unnamed: 0        date country  avg_temp_c\n",
       "city                                            \n",
       "Xian       16335  2000-01-01   China      -2.819\n",
       "Xian       16336  2000-02-01   China       0.943\n",
       "Xian       16337  2000-03-01   China       8.997\n",
       "Xian       16338  2000-04-01   China      13.714\n",
       "Xian       16339  2000-05-01   China      20.568"
      ],
      "text/html": [
       "<div>\n",
       "<style scoped>\n",
       "    .dataframe tbody tr th:only-of-type {\n",
       "        vertical-align: middle;\n",
       "    }\n",
       "\n",
       "    .dataframe tbody tr th {\n",
       "        vertical-align: top;\n",
       "    }\n",
       "\n",
       "    .dataframe thead th {\n",
       "        text-align: right;\n",
       "    }\n",
       "</style>\n",
       "<table border=\"1\" class=\"dataframe\">\n",
       "  <thead>\n",
       "    <tr style=\"text-align: right;\">\n",
       "      <th></th>\n",
       "      <th>Unnamed: 0</th>\n",
       "      <th>date</th>\n",
       "      <th>country</th>\n",
       "      <th>avg_temp_c</th>\n",
       "    </tr>\n",
       "    <tr>\n",
       "      <th>city</th>\n",
       "      <th></th>\n",
       "      <th></th>\n",
       "      <th></th>\n",
       "      <th></th>\n",
       "    </tr>\n",
       "  </thead>\n",
       "  <tbody>\n",
       "    <tr>\n",
       "      <th>Xian</th>\n",
       "      <td>16335</td>\n",
       "      <td>2000-01-01</td>\n",
       "      <td>China</td>\n",
       "      <td>-2.819</td>\n",
       "    </tr>\n",
       "    <tr>\n",
       "      <th>Xian</th>\n",
       "      <td>16336</td>\n",
       "      <td>2000-02-01</td>\n",
       "      <td>China</td>\n",
       "      <td>0.943</td>\n",
       "    </tr>\n",
       "    <tr>\n",
       "      <th>Xian</th>\n",
       "      <td>16337</td>\n",
       "      <td>2000-03-01</td>\n",
       "      <td>China</td>\n",
       "      <td>8.997</td>\n",
       "    </tr>\n",
       "    <tr>\n",
       "      <th>Xian</th>\n",
       "      <td>16338</td>\n",
       "      <td>2000-04-01</td>\n",
       "      <td>China</td>\n",
       "      <td>13.714</td>\n",
       "    </tr>\n",
       "    <tr>\n",
       "      <th>Xian</th>\n",
       "      <td>16339</td>\n",
       "      <td>2000-05-01</td>\n",
       "      <td>China</td>\n",
       "      <td>20.568</td>\n",
       "    </tr>\n",
       "  </tbody>\n",
       "</table>\n",
       "</div>"
      ]
     },
     "execution_count": 142,
     "metadata": {},
     "output_type": "execute_result"
    }
   ],
   "execution_count": 142
  },
  {
   "metadata": {
    "ExecuteTime": {
     "end_time": "2024-10-01T19:53:28.044424Z",
     "start_time": "2024-10-01T19:53:28.027693Z"
    }
   },
   "cell_type": "code",
   "source": [
    "temperatures = temperatures.drop(columns=['Unnamed: 0'])\n",
    "temperatures.head()"
   ],
   "id": "f54bcf131e4000b4",
   "outputs": [
    {
     "data": {
      "text/plain": [
       "         date     city        country  avg_temp_c\n",
       "0  2000-01-01  Abidjan  Côte D'Ivoire      27.293\n",
       "1  2000-02-01  Abidjan  Côte D'Ivoire      27.685\n",
       "2  2000-03-01  Abidjan  Côte D'Ivoire      29.061\n",
       "3  2000-04-01  Abidjan  Côte D'Ivoire      28.162\n",
       "4  2000-05-01  Abidjan  Côte D'Ivoire      27.547"
      ],
      "text/html": [
       "<div>\n",
       "<style scoped>\n",
       "    .dataframe tbody tr th:only-of-type {\n",
       "        vertical-align: middle;\n",
       "    }\n",
       "\n",
       "    .dataframe tbody tr th {\n",
       "        vertical-align: top;\n",
       "    }\n",
       "\n",
       "    .dataframe thead th {\n",
       "        text-align: right;\n",
       "    }\n",
       "</style>\n",
       "<table border=\"1\" class=\"dataframe\">\n",
       "  <thead>\n",
       "    <tr style=\"text-align: right;\">\n",
       "      <th></th>\n",
       "      <th>date</th>\n",
       "      <th>city</th>\n",
       "      <th>country</th>\n",
       "      <th>avg_temp_c</th>\n",
       "    </tr>\n",
       "  </thead>\n",
       "  <tbody>\n",
       "    <tr>\n",
       "      <th>0</th>\n",
       "      <td>2000-01-01</td>\n",
       "      <td>Abidjan</td>\n",
       "      <td>Côte D'Ivoire</td>\n",
       "      <td>27.293</td>\n",
       "    </tr>\n",
       "    <tr>\n",
       "      <th>1</th>\n",
       "      <td>2000-02-01</td>\n",
       "      <td>Abidjan</td>\n",
       "      <td>Côte D'Ivoire</td>\n",
       "      <td>27.685</td>\n",
       "    </tr>\n",
       "    <tr>\n",
       "      <th>2</th>\n",
       "      <td>2000-03-01</td>\n",
       "      <td>Abidjan</td>\n",
       "      <td>Côte D'Ivoire</td>\n",
       "      <td>29.061</td>\n",
       "    </tr>\n",
       "    <tr>\n",
       "      <th>3</th>\n",
       "      <td>2000-04-01</td>\n",
       "      <td>Abidjan</td>\n",
       "      <td>Côte D'Ivoire</td>\n",
       "      <td>28.162</td>\n",
       "    </tr>\n",
       "    <tr>\n",
       "      <th>4</th>\n",
       "      <td>2000-05-01</td>\n",
       "      <td>Abidjan</td>\n",
       "      <td>Côte D'Ivoire</td>\n",
       "      <td>27.547</td>\n",
       "    </tr>\n",
       "  </tbody>\n",
       "</table>\n",
       "</div>"
      ]
     },
     "execution_count": 143,
     "metadata": {},
     "output_type": "execute_result"
    }
   ],
   "execution_count": 143
  },
  {
   "metadata": {
    "ExecuteTime": {
     "end_time": "2024-10-01T19:54:49.565262Z",
     "start_time": "2024-10-01T19:54:49.557369Z"
    }
   },
   "cell_type": "code",
   "source": "print(temperatures.iloc[4,3])",
   "id": "96e81b80781039a4",
   "outputs": [
    {
     "name": "stdout",
     "output_type": "stream",
     "text": [
      "27.547\n",
      "         date     city        country  avg_temp_c\n",
      "0  2000-01-01  Abidjan  Côte D'Ivoire      27.293\n",
      "1  2000-02-01  Abidjan  Côte D'Ivoire      27.685\n",
      "2  2000-03-01  Abidjan  Côte D'Ivoire      29.061\n",
      "             country  avg_temp_c\n",
      "0      Côte D'Ivoire      27.293\n",
      "1      Côte D'Ivoire      27.685\n",
      "2      Côte D'Ivoire      29.061\n",
      "3      Côte D'Ivoire      28.162\n",
      "4      Côte D'Ivoire      27.547\n",
      "...              ...         ...\n",
      "16495          China      18.979\n",
      "16496          China      23.522\n",
      "16497          China      25.251\n",
      "16498          China      24.528\n",
      "16499          China         NaN\n",
      "\n",
      "[16500 rows x 2 columns]\n"
     ]
    }
   ],
   "execution_count": 148
  },
  {
   "metadata": {
    "ExecuteTime": {
     "end_time": "2024-10-01T19:55:29.773350Z",
     "start_time": "2024-10-01T19:55:29.766244Z"
    }
   },
   "cell_type": "code",
   "source": "print(temperatures.iloc[:3])",
   "id": "4ce4ab9c49caa093",
   "outputs": [
    {
     "name": "stdout",
     "output_type": "stream",
     "text": [
      "         date     city        country  avg_temp_c\n",
      "0  2000-01-01  Abidjan  Côte D'Ivoire      27.293\n",
      "1  2000-02-01  Abidjan  Côte D'Ivoire      27.685\n",
      "2  2000-03-01  Abidjan  Côte D'Ivoire      29.061\n"
     ]
    }
   ],
   "execution_count": 149
  },
  {
   "metadata": {
    "ExecuteTime": {
     "end_time": "2024-10-01T19:55:31.650029Z",
     "start_time": "2024-10-01T19:55:31.644445Z"
    }
   },
   "cell_type": "code",
   "source": "print(temperatures.iloc[: , 2:4])",
   "id": "6c094901c50024d3",
   "outputs": [
    {
     "name": "stdout",
     "output_type": "stream",
     "text": [
      "             country  avg_temp_c\n",
      "0      Côte D'Ivoire      27.293\n",
      "1      Côte D'Ivoire      27.685\n",
      "2      Côte D'Ivoire      29.061\n",
      "3      Côte D'Ivoire      28.162\n",
      "4      Côte D'Ivoire      27.547\n",
      "...              ...         ...\n",
      "16495          China      18.979\n",
      "16496          China      23.522\n",
      "16497          China      25.251\n",
      "16498          China      24.528\n",
      "16499          China         NaN\n",
      "\n",
      "[16500 rows x 2 columns]\n"
     ]
    }
   ],
   "execution_count": 150
  },
  {
   "metadata": {
    "ExecuteTime": {
     "end_time": "2024-10-01T19:56:27.752384Z",
     "start_time": "2024-10-01T19:56:27.746043Z"
    }
   },
   "cell_type": "code",
   "source": "print(temperatures.iloc[:5 , :2])",
   "id": "9e033af988210a9a",
   "outputs": [
    {
     "name": "stdout",
     "output_type": "stream",
     "text": [
      "         date     city\n",
      "0  2000-01-01  Abidjan\n",
      "1  2000-02-01  Abidjan\n",
      "2  2000-03-01  Abidjan\n",
      "3  2000-04-01  Abidjan\n",
      "4  2000-05-01  Abidjan\n"
     ]
    }
   ],
   "execution_count": 151
  }
 ],
 "metadata": {
  "kernelspec": {
   "display_name": "Python 3",
   "language": "python",
   "name": "python3"
  },
  "language_info": {
   "codemirror_mode": {
    "name": "ipython",
    "version": 2
   },
   "file_extension": ".py",
   "mimetype": "text/x-python",
   "name": "python",
   "nbconvert_exporter": "python",
   "pygments_lexer": "ipython2",
   "version": "2.7.6"
  }
 },
 "nbformat": 4,
 "nbformat_minor": 5
}
