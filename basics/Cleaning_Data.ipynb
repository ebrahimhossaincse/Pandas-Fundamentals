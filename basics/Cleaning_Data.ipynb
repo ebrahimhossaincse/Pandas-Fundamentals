{
 "cells": [
  {
   "cell_type": "code",
   "id": "initial_id",
   "metadata": {
    "collapsed": true,
    "ExecuteTime": {
     "end_time": "2024-10-03T03:20:56.095730Z",
     "start_time": "2024-10-03T03:20:56.088796Z"
    }
   },
   "source": [
    "import pandas as pd\n",
    "import numpy as np\n",
    "import os\n",
    "\n",
    "pd.__version__"
   ],
   "outputs": [
    {
     "data": {
      "text/plain": [
       "'2.2.2'"
      ]
     },
     "execution_count": 134,
     "metadata": {},
     "output_type": "execute_result"
    }
   ],
   "execution_count": 134
  },
  {
   "metadata": {
    "ExecuteTime": {
     "end_time": "2024-10-03T03:20:56.159737Z",
     "start_time": "2024-10-03T03:20:56.154100Z"
    }
   },
   "cell_type": "code",
   "source": [
    "root_dir = os.path.dirname(os.getcwd())\n",
    "data_dir = os.path.join(root_dir, 'data')\n",
    "data_set_path = os.path.join(data_dir, 'health_monitor_data.csv')"
   ],
   "id": "5dd548d9de1d8290",
   "outputs": [],
   "execution_count": 135
  },
  {
   "metadata": {
    "ExecuteTime": {
     "end_time": "2024-10-03T03:20:56.220808Z",
     "start_time": "2024-10-03T03:20:56.201423Z"
    }
   },
   "cell_type": "code",
   "source": [
    "\"\"\"Read File\"\"\"\n",
    "health_monitor_data = pd.read_csv(data_set_path)\n",
    "health_monitor_data.head()"
   ],
   "id": "e00e3258f47bed97",
   "outputs": [
    {
     "data": {
      "text/plain": [
       "   Duration          Date  Pulse  Maxpulse  Calories\n",
       "0        60  '2020/12/01'    110       130     409.1\n",
       "1        60  '2020/12/02'    117       145     479.0\n",
       "2        60  '2020/12/03'    103       135     340.0\n",
       "3        45  '2020/12/04'    109       175     282.4\n",
       "4        45  '2020/12/05'    117       148     406.0"
      ],
      "text/html": [
       "<div>\n",
       "<style scoped>\n",
       "    .dataframe tbody tr th:only-of-type {\n",
       "        vertical-align: middle;\n",
       "    }\n",
       "\n",
       "    .dataframe tbody tr th {\n",
       "        vertical-align: top;\n",
       "    }\n",
       "\n",
       "    .dataframe thead th {\n",
       "        text-align: right;\n",
       "    }\n",
       "</style>\n",
       "<table border=\"1\" class=\"dataframe\">\n",
       "  <thead>\n",
       "    <tr style=\"text-align: right;\">\n",
       "      <th></th>\n",
       "      <th>Duration</th>\n",
       "      <th>Date</th>\n",
       "      <th>Pulse</th>\n",
       "      <th>Maxpulse</th>\n",
       "      <th>Calories</th>\n",
       "    </tr>\n",
       "  </thead>\n",
       "  <tbody>\n",
       "    <tr>\n",
       "      <th>0</th>\n",
       "      <td>60</td>\n",
       "      <td>'2020/12/01'</td>\n",
       "      <td>110</td>\n",
       "      <td>130</td>\n",
       "      <td>409.1</td>\n",
       "    </tr>\n",
       "    <tr>\n",
       "      <th>1</th>\n",
       "      <td>60</td>\n",
       "      <td>'2020/12/02'</td>\n",
       "      <td>117</td>\n",
       "      <td>145</td>\n",
       "      <td>479.0</td>\n",
       "    </tr>\n",
       "    <tr>\n",
       "      <th>2</th>\n",
       "      <td>60</td>\n",
       "      <td>'2020/12/03'</td>\n",
       "      <td>103</td>\n",
       "      <td>135</td>\n",
       "      <td>340.0</td>\n",
       "    </tr>\n",
       "    <tr>\n",
       "      <th>3</th>\n",
       "      <td>45</td>\n",
       "      <td>'2020/12/04'</td>\n",
       "      <td>109</td>\n",
       "      <td>175</td>\n",
       "      <td>282.4</td>\n",
       "    </tr>\n",
       "    <tr>\n",
       "      <th>4</th>\n",
       "      <td>45</td>\n",
       "      <td>'2020/12/05'</td>\n",
       "      <td>117</td>\n",
       "      <td>148</td>\n",
       "      <td>406.0</td>\n",
       "    </tr>\n",
       "  </tbody>\n",
       "</table>\n",
       "</div>"
      ]
     },
     "execution_count": 136,
     "metadata": {},
     "output_type": "execute_result"
    }
   ],
   "execution_count": 136
  },
  {
   "metadata": {
    "ExecuteTime": {
     "end_time": "2024-10-03T03:20:56.317654Z",
     "start_time": "2024-10-03T03:20:56.306675Z"
    }
   },
   "cell_type": "code",
   "source": "health_monitor_data.info()",
   "id": "fb3e1d4c9ad90b50",
   "outputs": [
    {
     "name": "stdout",
     "output_type": "stream",
     "text": [
      "<class 'pandas.core.frame.DataFrame'>\n",
      "Index: 32 entries, 0 to 31\n",
      "Data columns (total 5 columns):\n",
      " #   Column    Non-Null Count  Dtype  \n",
      "---  ------    --------------  -----  \n",
      " 0   Duration  32 non-null     int64  \n",
      " 1   Date      31 non-null     object \n",
      " 2   Pulse     32 non-null     int64  \n",
      " 3   Maxpulse  32 non-null     int64  \n",
      " 4   Calories  30 non-null     float64\n",
      "dtypes: float64(1), int64(3), object(1)\n",
      "memory usage: 1.5+ KB\n"
     ]
    }
   ],
   "execution_count": 137
  },
  {
   "metadata": {
    "ExecuteTime": {
     "end_time": "2024-10-03T03:20:56.436127Z",
     "start_time": "2024-10-03T03:20:56.429446Z"
    }
   },
   "cell_type": "code",
   "source": [
    "\"\"\"Handle Missing values\n",
    "-Approach 1: Remove Rows\n",
    "-Approach 2: Replace empty value with a value (Imputation) \n",
    "\"\"\""
   ],
   "id": "c49506735cdf0aa",
   "outputs": [
    {
     "data": {
      "text/plain": [
       "'Handle Missing values\\n-Approach 1: Remove Rows\\n-Approach 2: Replace empty value with a value (Imputation) \\n'"
      ]
     },
     "execution_count": 138,
     "metadata": {},
     "output_type": "execute_result"
    }
   ],
   "execution_count": 138
  },
  {
   "metadata": {
    "ExecuteTime": {
     "end_time": "2024-10-03T03:20:56.614772Z",
     "start_time": "2024-10-03T03:20:56.605095Z"
    }
   },
   "cell_type": "code",
   "source": [
    "\"\"\"Approach 1\"\"\"\n",
    "health_monitor_data.isnull().sum()"
   ],
   "id": "42b772b193ee0f2f",
   "outputs": [
    {
     "data": {
      "text/plain": [
       "Duration    0\n",
       "Date        1\n",
       "Pulse       0\n",
       "Maxpulse    0\n",
       "Calories    2\n",
       "dtype: int64"
      ]
     },
     "execution_count": 139,
     "metadata": {},
     "output_type": "execute_result"
    }
   ],
   "execution_count": 139
  },
  {
   "metadata": {
    "ExecuteTime": {
     "end_time": "2024-10-03T03:20:56.774516Z",
     "start_time": "2024-10-03T03:20:56.761875Z"
    }
   },
   "cell_type": "code",
   "source": [
    "\"\"\"Identify Missing Values\"\"\"\n",
    "health_monitor_data[health_monitor_data.isnull().any(axis=1)]"
   ],
   "id": "f9065333b5091e0e",
   "outputs": [
    {
     "data": {
      "text/plain": [
       "    Duration          Date  Pulse  Maxpulse  Calories\n",
       "18        45  '2020/12/18'     90       112       NaN\n",
       "22        45           NaN    100       119     282.0\n",
       "28        60  '2020/12/28'    103       132       NaN"
      ],
      "text/html": [
       "<div>\n",
       "<style scoped>\n",
       "    .dataframe tbody tr th:only-of-type {\n",
       "        vertical-align: middle;\n",
       "    }\n",
       "\n",
       "    .dataframe tbody tr th {\n",
       "        vertical-align: top;\n",
       "    }\n",
       "\n",
       "    .dataframe thead th {\n",
       "        text-align: right;\n",
       "    }\n",
       "</style>\n",
       "<table border=\"1\" class=\"dataframe\">\n",
       "  <thead>\n",
       "    <tr style=\"text-align: right;\">\n",
       "      <th></th>\n",
       "      <th>Duration</th>\n",
       "      <th>Date</th>\n",
       "      <th>Pulse</th>\n",
       "      <th>Maxpulse</th>\n",
       "      <th>Calories</th>\n",
       "    </tr>\n",
       "  </thead>\n",
       "  <tbody>\n",
       "    <tr>\n",
       "      <th>18</th>\n",
       "      <td>45</td>\n",
       "      <td>'2020/12/18'</td>\n",
       "      <td>90</td>\n",
       "      <td>112</td>\n",
       "      <td>NaN</td>\n",
       "    </tr>\n",
       "    <tr>\n",
       "      <th>22</th>\n",
       "      <td>45</td>\n",
       "      <td>NaN</td>\n",
       "      <td>100</td>\n",
       "      <td>119</td>\n",
       "      <td>282.0</td>\n",
       "    </tr>\n",
       "    <tr>\n",
       "      <th>28</th>\n",
       "      <td>60</td>\n",
       "      <td>'2020/12/28'</td>\n",
       "      <td>103</td>\n",
       "      <td>132</td>\n",
       "      <td>NaN</td>\n",
       "    </tr>\n",
       "  </tbody>\n",
       "</table>\n",
       "</div>"
      ]
     },
     "execution_count": 140,
     "metadata": {},
     "output_type": "execute_result"
    }
   ],
   "execution_count": 140
  },
  {
   "metadata": {
    "ExecuteTime": {
     "end_time": "2024-10-03T03:20:56.983897Z",
     "start_time": "2024-10-03T03:20:56.966626Z"
    }
   },
   "cell_type": "code",
   "source": [
    "\"\"\"Replace\"\"\"\n",
    "health_monitor_data['Calories'].fillna(\n",
    "    value = health_monitor_data['Calories'].mean(),\n",
    "    inplace = True\n",
    ")\n",
    "health_monitor_data[health_monitor_data.isnull().any(axis=1)]"
   ],
   "id": "a30b5c867b3967c7",
   "outputs": [
    {
     "name": "stderr",
     "output_type": "stream",
     "text": [
      "C:\\Users\\Asus\\AppData\\Local\\Temp\\ipykernel_24984\\3771181868.py:2: FutureWarning: A value is trying to be set on a copy of a DataFrame or Series through chained assignment using an inplace method.\n",
      "The behavior will change in pandas 3.0. This inplace method will never work because the intermediate object on which we are setting values always behaves as a copy.\n",
      "\n",
      "For example, when doing 'df[col].method(value, inplace=True)', try using 'df.method({col: value}, inplace=True)' or df[col] = df[col].method(value) instead, to perform the operation inplace on the original object.\n",
      "\n",
      "\n",
      "  health_monitor_data['Calories'].fillna(\n"
     ]
    },
    {
     "data": {
      "text/plain": [
       "    Duration Date  Pulse  Maxpulse  Calories\n",
       "22        45  NaN    100       119     282.0"
      ],
      "text/html": [
       "<div>\n",
       "<style scoped>\n",
       "    .dataframe tbody tr th:only-of-type {\n",
       "        vertical-align: middle;\n",
       "    }\n",
       "\n",
       "    .dataframe tbody tr th {\n",
       "        vertical-align: top;\n",
       "    }\n",
       "\n",
       "    .dataframe thead th {\n",
       "        text-align: right;\n",
       "    }\n",
       "</style>\n",
       "<table border=\"1\" class=\"dataframe\">\n",
       "  <thead>\n",
       "    <tr style=\"text-align: right;\">\n",
       "      <th></th>\n",
       "      <th>Duration</th>\n",
       "      <th>Date</th>\n",
       "      <th>Pulse</th>\n",
       "      <th>Maxpulse</th>\n",
       "      <th>Calories</th>\n",
       "    </tr>\n",
       "  </thead>\n",
       "  <tbody>\n",
       "    <tr>\n",
       "      <th>22</th>\n",
       "      <td>45</td>\n",
       "      <td>NaN</td>\n",
       "      <td>100</td>\n",
       "      <td>119</td>\n",
       "      <td>282.0</td>\n",
       "    </tr>\n",
       "  </tbody>\n",
       "</table>\n",
       "</div>"
      ]
     },
     "execution_count": 141,
     "metadata": {},
     "output_type": "execute_result"
    }
   ],
   "execution_count": 141
  },
  {
   "metadata": {
    "ExecuteTime": {
     "end_time": "2024-10-03T03:20:57.230395Z",
     "start_time": "2024-10-03T03:20:57.221626Z"
    }
   },
   "cell_type": "code",
   "source": [
    "\"\"\"Approach 2\"\"\"\n",
    "health_monitor_data.dropna(inplace=True)"
   ],
   "id": "42869f1c7c6bc2a7",
   "outputs": [],
   "execution_count": 142
  },
  {
   "metadata": {
    "ExecuteTime": {
     "end_time": "2024-10-03T03:20:57.529928Z",
     "start_time": "2024-10-03T03:20:57.520243Z"
    }
   },
   "cell_type": "code",
   "source": "health_monitor_data.isnull().sum()",
   "id": "c2344b1065d5d815",
   "outputs": [
    {
     "data": {
      "text/plain": [
       "Duration    0\n",
       "Date        0\n",
       "Pulse       0\n",
       "Maxpulse    0\n",
       "Calories    0\n",
       "dtype: int64"
      ]
     },
     "execution_count": 143,
     "metadata": {},
     "output_type": "execute_result"
    }
   ],
   "execution_count": 143
  },
  {
   "metadata": {
    "ExecuteTime": {
     "end_time": "2024-10-03T03:20:57.707103Z",
     "start_time": "2024-10-03T03:20:57.698514Z"
    }
   },
   "cell_type": "code",
   "source": [
    "\"\"\"Remove Duplicates\"\"\"\n",
    "health_monitor_data.duplicated()"
   ],
   "id": "21e40e028a10e29b",
   "outputs": [
    {
     "data": {
      "text/plain": [
       "0     False\n",
       "1     False\n",
       "2     False\n",
       "3     False\n",
       "4     False\n",
       "5     False\n",
       "6     False\n",
       "7     False\n",
       "8     False\n",
       "9     False\n",
       "10    False\n",
       "11    False\n",
       "12     True\n",
       "13    False\n",
       "14    False\n",
       "15    False\n",
       "16    False\n",
       "17    False\n",
       "18    False\n",
       "19    False\n",
       "20    False\n",
       "21    False\n",
       "23    False\n",
       "24    False\n",
       "25    False\n",
       "26    False\n",
       "27    False\n",
       "28    False\n",
       "29    False\n",
       "30    False\n",
       "31    False\n",
       "dtype: bool"
      ]
     },
     "execution_count": 144,
     "metadata": {},
     "output_type": "execute_result"
    }
   ],
   "execution_count": 144
  },
  {
   "metadata": {
    "ExecuteTime": {
     "end_time": "2024-10-03T03:20:57.898638Z",
     "start_time": "2024-10-03T03:20:57.888711Z"
    }
   },
   "cell_type": "code",
   "source": "health_monitor_data[health_monitor_data.duplicated()]",
   "id": "6016d2e422951668",
   "outputs": [
    {
     "data": {
      "text/plain": [
       "    Duration          Date  Pulse  Maxpulse  Calories\n",
       "12        60  '2020/12/12'    100       120     250.7"
      ],
      "text/html": [
       "<div>\n",
       "<style scoped>\n",
       "    .dataframe tbody tr th:only-of-type {\n",
       "        vertical-align: middle;\n",
       "    }\n",
       "\n",
       "    .dataframe tbody tr th {\n",
       "        vertical-align: top;\n",
       "    }\n",
       "\n",
       "    .dataframe thead th {\n",
       "        text-align: right;\n",
       "    }\n",
       "</style>\n",
       "<table border=\"1\" class=\"dataframe\">\n",
       "  <thead>\n",
       "    <tr style=\"text-align: right;\">\n",
       "      <th></th>\n",
       "      <th>Duration</th>\n",
       "      <th>Date</th>\n",
       "      <th>Pulse</th>\n",
       "      <th>Maxpulse</th>\n",
       "      <th>Calories</th>\n",
       "    </tr>\n",
       "  </thead>\n",
       "  <tbody>\n",
       "    <tr>\n",
       "      <th>12</th>\n",
       "      <td>60</td>\n",
       "      <td>'2020/12/12'</td>\n",
       "      <td>100</td>\n",
       "      <td>120</td>\n",
       "      <td>250.7</td>\n",
       "    </tr>\n",
       "  </tbody>\n",
       "</table>\n",
       "</div>"
      ]
     },
     "execution_count": 145,
     "metadata": {},
     "output_type": "execute_result"
    }
   ],
   "execution_count": 145
  },
  {
   "metadata": {
    "ExecuteTime": {
     "end_time": "2024-10-03T03:20:58.104663Z",
     "start_time": "2024-10-03T03:20:58.098668Z"
    }
   },
   "cell_type": "code",
   "source": "health_monitor_data.drop_duplicates(inplace=True)",
   "id": "99050e13f7bf024f",
   "outputs": [],
   "execution_count": 146
  },
  {
   "metadata": {
    "ExecuteTime": {
     "end_time": "2024-10-03T03:20:58.296725Z",
     "start_time": "2024-10-03T03:20:58.286926Z"
    }
   },
   "cell_type": "code",
   "source": "health_monitor_data[health_monitor_data.duplicated()]",
   "id": "4139336b5dd447a9",
   "outputs": [
    {
     "data": {
      "text/plain": [
       "Empty DataFrame\n",
       "Columns: [Duration, Date, Pulse, Maxpulse, Calories]\n",
       "Index: []"
      ],
      "text/html": [
       "<div>\n",
       "<style scoped>\n",
       "    .dataframe tbody tr th:only-of-type {\n",
       "        vertical-align: middle;\n",
       "    }\n",
       "\n",
       "    .dataframe tbody tr th {\n",
       "        vertical-align: top;\n",
       "    }\n",
       "\n",
       "    .dataframe thead th {\n",
       "        text-align: right;\n",
       "    }\n",
       "</style>\n",
       "<table border=\"1\" class=\"dataframe\">\n",
       "  <thead>\n",
       "    <tr style=\"text-align: right;\">\n",
       "      <th></th>\n",
       "      <th>Duration</th>\n",
       "      <th>Date</th>\n",
       "      <th>Pulse</th>\n",
       "      <th>Maxpulse</th>\n",
       "      <th>Calories</th>\n",
       "    </tr>\n",
       "  </thead>\n",
       "  <tbody>\n",
       "  </tbody>\n",
       "</table>\n",
       "</div>"
      ]
     },
     "execution_count": 147,
     "metadata": {},
     "output_type": "execute_result"
    }
   ],
   "execution_count": 147
  },
  {
   "metadata": {
    "ExecuteTime": {
     "end_time": "2024-10-03T03:20:58.429748Z",
     "start_time": "2024-10-03T03:20:58.424801Z"
    }
   },
   "cell_type": "code",
   "source": [
    "\"\"\"Type Conversion\"\"\"\n",
    "print(health_monitor_data['Date'].dtype)"
   ],
   "id": "c1794227460269d6",
   "outputs": [
    {
     "name": "stdout",
     "output_type": "stream",
     "text": [
      "object\n"
     ]
    }
   ],
   "execution_count": 148
  },
  {
   "metadata": {
    "ExecuteTime": {
     "end_time": "2024-10-03T03:20:58.569949Z",
     "start_time": "2024-10-03T03:20:58.561447Z"
    }
   },
   "cell_type": "code",
   "source": [
    "health_monitor_data['Date'] = health_monitor_data['Date'].astype('datetime64[ns]')\n",
    "print(health_monitor_data['Date'].dtype)"
   ],
   "id": "b439246c86e6b624",
   "outputs": [
    {
     "name": "stdout",
     "output_type": "stream",
     "text": [
      "datetime64[ns]\n"
     ]
    }
   ],
   "execution_count": 149
  },
  {
   "metadata": {
    "ExecuteTime": {
     "end_time": "2024-10-03T03:20:58.689607Z",
     "start_time": "2024-10-03T03:20:58.684033Z"
    }
   },
   "cell_type": "code",
   "source": "\"\"\"Filtering Outliers\"\"\"",
   "id": "ff853d60cdbcb64f",
   "outputs": [
    {
     "data": {
      "text/plain": [
       "'Filtering Outliers'"
      ]
     },
     "execution_count": 150,
     "metadata": {},
     "output_type": "execute_result"
    }
   ],
   "execution_count": 150
  },
  {
   "metadata": {
    "ExecuteTime": {
     "end_time": "2024-10-03T03:20:58.785969Z",
     "start_time": "2024-10-03T03:20:58.777894Z"
    }
   },
   "cell_type": "code",
   "source": [
    "Q1 = health_monitor_data['Pulse'].quantile(0.25)\n",
    "Q2 = health_monitor_data['Pulse'].quantile(0.75)\n",
    "IQR = Q2 - Q1\n",
    "lower_bound = Q1 -1.5*IQR\n",
    "upper_bound = Q2 +1.5*IQR\n",
    "not_outliers = health_monitor_data['Pulse'].between(lower_bound, upper_bound)\n",
    "print(lower_bound, upper_bound)\n",
    "print(not_outliers)"
   ],
   "id": "15821df08182c791",
   "outputs": [
    {
     "name": "stdout",
     "output_type": "stream",
     "text": [
      "88.75 118.75\n",
      "0      True\n",
      "1      True\n",
      "2      True\n",
      "3      True\n",
      "4      True\n",
      "5      True\n",
      "6      True\n",
      "7      True\n",
      "8      True\n",
      "9      True\n",
      "10     True\n",
      "11     True\n",
      "13     True\n",
      "14     True\n",
      "15     True\n",
      "16     True\n",
      "17     True\n",
      "18     True\n",
      "19     True\n",
      "20     True\n",
      "21     True\n",
      "23    False\n",
      "24     True\n",
      "25     True\n",
      "26     True\n",
      "27     True\n",
      "28     True\n",
      "29     True\n",
      "30     True\n",
      "31     True\n",
      "Name: Pulse, dtype: bool\n"
     ]
    }
   ],
   "execution_count": 151
  },
  {
   "metadata": {
    "ExecuteTime": {
     "end_time": "2024-10-03T03:20:58.859636Z",
     "start_time": "2024-10-03T03:20:58.854679Z"
    }
   },
   "cell_type": "code",
   "source": [
    "# health_monitor_data = health_monitor_data[~not_outliers]\n",
    "# health_monitor_data.head()"
   ],
   "id": "37fbee3baf6fb976",
   "outputs": [],
   "execution_count": 152
  },
  {
   "metadata": {
    "ExecuteTime": {
     "end_time": "2024-10-03T03:20:58.963009Z",
     "start_time": "2024-10-03T03:20:58.941035Z"
    }
   },
   "cell_type": "code",
   "source": [
    "health_monitor_data = health_monitor_data[not_outliers]\n",
    "health_monitor_data"
   ],
   "id": "bc41e0618f47acbf",
   "outputs": [
    {
     "data": {
      "text/plain": [
       "    Duration       Date  Pulse  Maxpulse  Calories\n",
       "0         60 2020-12-01    110       130    409.10\n",
       "1         60 2020-12-02    117       145    479.00\n",
       "2         60 2020-12-03    103       135    340.00\n",
       "3         45 2020-12-04    109       175    282.40\n",
       "4         45 2020-12-05    117       148    406.00\n",
       "5         60 2020-12-06    102       127    300.00\n",
       "6         60 2020-12-07    110       136    374.00\n",
       "7        450 2020-12-08    104       134    253.30\n",
       "8         30 2020-12-09    109       133    195.10\n",
       "9         60 2020-12-10     98       124    269.00\n",
       "10        60 2020-12-11    103       147    329.30\n",
       "11        60 2020-12-12    100       120    250.70\n",
       "13        60 2020-12-13    106       128    345.30\n",
       "14        60 2020-12-14    104       132    379.30\n",
       "15        60 2020-12-15     98       123    275.00\n",
       "16        60 2020-12-16     98       120    215.20\n",
       "17        60 2020-12-17    100       120    300.00\n",
       "18        45 2020-12-18     90       112    304.68\n",
       "19        60 2020-12-19    103       123    323.00\n",
       "20        45 2020-12-20     97       125    243.00\n",
       "21        60 2020-12-21    108       131    364.20\n",
       "24        45 2020-12-24    105       132    246.00\n",
       "25        60 2020-12-25    102       126    334.50\n",
       "26        60 2020-12-26    100       120    250.00\n",
       "27        60 2020-12-27     92       118    241.00\n",
       "28        60 2020-12-28    103       132    304.68\n",
       "29        60 2020-12-29    100       132    280.00\n",
       "30        60 2020-12-30    102       129    380.30\n",
       "31        60 2020-12-31     92       115    243.00"
      ],
      "text/html": [
       "<div>\n",
       "<style scoped>\n",
       "    .dataframe tbody tr th:only-of-type {\n",
       "        vertical-align: middle;\n",
       "    }\n",
       "\n",
       "    .dataframe tbody tr th {\n",
       "        vertical-align: top;\n",
       "    }\n",
       "\n",
       "    .dataframe thead th {\n",
       "        text-align: right;\n",
       "    }\n",
       "</style>\n",
       "<table border=\"1\" class=\"dataframe\">\n",
       "  <thead>\n",
       "    <tr style=\"text-align: right;\">\n",
       "      <th></th>\n",
       "      <th>Duration</th>\n",
       "      <th>Date</th>\n",
       "      <th>Pulse</th>\n",
       "      <th>Maxpulse</th>\n",
       "      <th>Calories</th>\n",
       "    </tr>\n",
       "  </thead>\n",
       "  <tbody>\n",
       "    <tr>\n",
       "      <th>0</th>\n",
       "      <td>60</td>\n",
       "      <td>2020-12-01</td>\n",
       "      <td>110</td>\n",
       "      <td>130</td>\n",
       "      <td>409.10</td>\n",
       "    </tr>\n",
       "    <tr>\n",
       "      <th>1</th>\n",
       "      <td>60</td>\n",
       "      <td>2020-12-02</td>\n",
       "      <td>117</td>\n",
       "      <td>145</td>\n",
       "      <td>479.00</td>\n",
       "    </tr>\n",
       "    <tr>\n",
       "      <th>2</th>\n",
       "      <td>60</td>\n",
       "      <td>2020-12-03</td>\n",
       "      <td>103</td>\n",
       "      <td>135</td>\n",
       "      <td>340.00</td>\n",
       "    </tr>\n",
       "    <tr>\n",
       "      <th>3</th>\n",
       "      <td>45</td>\n",
       "      <td>2020-12-04</td>\n",
       "      <td>109</td>\n",
       "      <td>175</td>\n",
       "      <td>282.40</td>\n",
       "    </tr>\n",
       "    <tr>\n",
       "      <th>4</th>\n",
       "      <td>45</td>\n",
       "      <td>2020-12-05</td>\n",
       "      <td>117</td>\n",
       "      <td>148</td>\n",
       "      <td>406.00</td>\n",
       "    </tr>\n",
       "    <tr>\n",
       "      <th>5</th>\n",
       "      <td>60</td>\n",
       "      <td>2020-12-06</td>\n",
       "      <td>102</td>\n",
       "      <td>127</td>\n",
       "      <td>300.00</td>\n",
       "    </tr>\n",
       "    <tr>\n",
       "      <th>6</th>\n",
       "      <td>60</td>\n",
       "      <td>2020-12-07</td>\n",
       "      <td>110</td>\n",
       "      <td>136</td>\n",
       "      <td>374.00</td>\n",
       "    </tr>\n",
       "    <tr>\n",
       "      <th>7</th>\n",
       "      <td>450</td>\n",
       "      <td>2020-12-08</td>\n",
       "      <td>104</td>\n",
       "      <td>134</td>\n",
       "      <td>253.30</td>\n",
       "    </tr>\n",
       "    <tr>\n",
       "      <th>8</th>\n",
       "      <td>30</td>\n",
       "      <td>2020-12-09</td>\n",
       "      <td>109</td>\n",
       "      <td>133</td>\n",
       "      <td>195.10</td>\n",
       "    </tr>\n",
       "    <tr>\n",
       "      <th>9</th>\n",
       "      <td>60</td>\n",
       "      <td>2020-12-10</td>\n",
       "      <td>98</td>\n",
       "      <td>124</td>\n",
       "      <td>269.00</td>\n",
       "    </tr>\n",
       "    <tr>\n",
       "      <th>10</th>\n",
       "      <td>60</td>\n",
       "      <td>2020-12-11</td>\n",
       "      <td>103</td>\n",
       "      <td>147</td>\n",
       "      <td>329.30</td>\n",
       "    </tr>\n",
       "    <tr>\n",
       "      <th>11</th>\n",
       "      <td>60</td>\n",
       "      <td>2020-12-12</td>\n",
       "      <td>100</td>\n",
       "      <td>120</td>\n",
       "      <td>250.70</td>\n",
       "    </tr>\n",
       "    <tr>\n",
       "      <th>13</th>\n",
       "      <td>60</td>\n",
       "      <td>2020-12-13</td>\n",
       "      <td>106</td>\n",
       "      <td>128</td>\n",
       "      <td>345.30</td>\n",
       "    </tr>\n",
       "    <tr>\n",
       "      <th>14</th>\n",
       "      <td>60</td>\n",
       "      <td>2020-12-14</td>\n",
       "      <td>104</td>\n",
       "      <td>132</td>\n",
       "      <td>379.30</td>\n",
       "    </tr>\n",
       "    <tr>\n",
       "      <th>15</th>\n",
       "      <td>60</td>\n",
       "      <td>2020-12-15</td>\n",
       "      <td>98</td>\n",
       "      <td>123</td>\n",
       "      <td>275.00</td>\n",
       "    </tr>\n",
       "    <tr>\n",
       "      <th>16</th>\n",
       "      <td>60</td>\n",
       "      <td>2020-12-16</td>\n",
       "      <td>98</td>\n",
       "      <td>120</td>\n",
       "      <td>215.20</td>\n",
       "    </tr>\n",
       "    <tr>\n",
       "      <th>17</th>\n",
       "      <td>60</td>\n",
       "      <td>2020-12-17</td>\n",
       "      <td>100</td>\n",
       "      <td>120</td>\n",
       "      <td>300.00</td>\n",
       "    </tr>\n",
       "    <tr>\n",
       "      <th>18</th>\n",
       "      <td>45</td>\n",
       "      <td>2020-12-18</td>\n",
       "      <td>90</td>\n",
       "      <td>112</td>\n",
       "      <td>304.68</td>\n",
       "    </tr>\n",
       "    <tr>\n",
       "      <th>19</th>\n",
       "      <td>60</td>\n",
       "      <td>2020-12-19</td>\n",
       "      <td>103</td>\n",
       "      <td>123</td>\n",
       "      <td>323.00</td>\n",
       "    </tr>\n",
       "    <tr>\n",
       "      <th>20</th>\n",
       "      <td>45</td>\n",
       "      <td>2020-12-20</td>\n",
       "      <td>97</td>\n",
       "      <td>125</td>\n",
       "      <td>243.00</td>\n",
       "    </tr>\n",
       "    <tr>\n",
       "      <th>21</th>\n",
       "      <td>60</td>\n",
       "      <td>2020-12-21</td>\n",
       "      <td>108</td>\n",
       "      <td>131</td>\n",
       "      <td>364.20</td>\n",
       "    </tr>\n",
       "    <tr>\n",
       "      <th>24</th>\n",
       "      <td>45</td>\n",
       "      <td>2020-12-24</td>\n",
       "      <td>105</td>\n",
       "      <td>132</td>\n",
       "      <td>246.00</td>\n",
       "    </tr>\n",
       "    <tr>\n",
       "      <th>25</th>\n",
       "      <td>60</td>\n",
       "      <td>2020-12-25</td>\n",
       "      <td>102</td>\n",
       "      <td>126</td>\n",
       "      <td>334.50</td>\n",
       "    </tr>\n",
       "    <tr>\n",
       "      <th>26</th>\n",
       "      <td>60</td>\n",
       "      <td>2020-12-26</td>\n",
       "      <td>100</td>\n",
       "      <td>120</td>\n",
       "      <td>250.00</td>\n",
       "    </tr>\n",
       "    <tr>\n",
       "      <th>27</th>\n",
       "      <td>60</td>\n",
       "      <td>2020-12-27</td>\n",
       "      <td>92</td>\n",
       "      <td>118</td>\n",
       "      <td>241.00</td>\n",
       "    </tr>\n",
       "    <tr>\n",
       "      <th>28</th>\n",
       "      <td>60</td>\n",
       "      <td>2020-12-28</td>\n",
       "      <td>103</td>\n",
       "      <td>132</td>\n",
       "      <td>304.68</td>\n",
       "    </tr>\n",
       "    <tr>\n",
       "      <th>29</th>\n",
       "      <td>60</td>\n",
       "      <td>2020-12-29</td>\n",
       "      <td>100</td>\n",
       "      <td>132</td>\n",
       "      <td>280.00</td>\n",
       "    </tr>\n",
       "    <tr>\n",
       "      <th>30</th>\n",
       "      <td>60</td>\n",
       "      <td>2020-12-30</td>\n",
       "      <td>102</td>\n",
       "      <td>129</td>\n",
       "      <td>380.30</td>\n",
       "    </tr>\n",
       "    <tr>\n",
       "      <th>31</th>\n",
       "      <td>60</td>\n",
       "      <td>2020-12-31</td>\n",
       "      <td>92</td>\n",
       "      <td>115</td>\n",
       "      <td>243.00</td>\n",
       "    </tr>\n",
       "  </tbody>\n",
       "</table>\n",
       "</div>"
      ]
     },
     "execution_count": 153,
     "metadata": {},
     "output_type": "execute_result"
    }
   ],
   "execution_count": 153
  },
  {
   "metadata": {
    "ExecuteTime": {
     "end_time": "2024-10-03T03:20:59.123552Z",
     "start_time": "2024-10-03T03:20:59.097188Z"
    }
   },
   "cell_type": "code",
   "source": [
    "\"\"\"Data Processing -> Numeric Data\"\"\"\n",
    "def standard_scaler(data):\n",
    "    mean = data.mean()\n",
    "    std= data.std()\n",
    "    return (data - mean) / std\n",
    "\n",
    "health_monitor_data['Pulse_Scaled'] = health_monitor_data['Pulse'].agg(standard_scaler)\n",
    "health_monitor_data"
   ],
   "id": "881baa8ad4426077",
   "outputs": [
    {
     "data": {
      "text/plain": [
       "    Duration       Date  Pulse  Maxpulse  Calories  Pulse_Scaled\n",
       "0         60 2020-12-01    110       130    409.10      1.113308\n",
       "1         60 2020-12-02    117       145    479.00      2.199855\n",
       "2         60 2020-12-03    103       135    340.00      0.026762\n",
       "3         45 2020-12-04    109       175    282.40      0.958088\n",
       "4         45 2020-12-05    117       148    406.00      2.199855\n",
       "5         60 2020-12-06    102       127    300.00     -0.128459\n",
       "6         60 2020-12-07    110       136    374.00      1.113308\n",
       "7        450 2020-12-08    104       134    253.30      0.181983\n",
       "8         30 2020-12-09    109       133    195.10      0.958088\n",
       "9         60 2020-12-10     98       124    269.00     -0.749342\n",
       "10        60 2020-12-11    103       147    329.30      0.026762\n",
       "11        60 2020-12-12    100       120    250.70     -0.438900\n",
       "13        60 2020-12-13    106       128    345.30      0.492425\n",
       "14        60 2020-12-14    104       132    379.30      0.181983\n",
       "15        60 2020-12-15     98       123    275.00     -0.749342\n",
       "16        60 2020-12-16     98       120    215.20     -0.749342\n",
       "17        60 2020-12-17    100       120    300.00     -0.438900\n",
       "18        45 2020-12-18     90       112    304.68     -1.991109\n",
       "19        60 2020-12-19    103       123    323.00      0.026762\n",
       "20        45 2020-12-20     97       125    243.00     -0.904563\n",
       "21        60 2020-12-21    108       131    364.20      0.802867\n",
       "24        45 2020-12-24    105       132    246.00      0.337204\n",
       "25        60 2020-12-25    102       126    334.50     -0.128459\n",
       "26        60 2020-12-26    100       120    250.00     -0.438900\n",
       "27        60 2020-12-27     92       118    241.00     -1.680668\n",
       "28        60 2020-12-28    103       132    304.68      0.026762\n",
       "29        60 2020-12-29    100       132    280.00     -0.438900\n",
       "30        60 2020-12-30    102       129    380.30     -0.128459\n",
       "31        60 2020-12-31     92       115    243.00     -1.680668"
      ],
      "text/html": [
       "<div>\n",
       "<style scoped>\n",
       "    .dataframe tbody tr th:only-of-type {\n",
       "        vertical-align: middle;\n",
       "    }\n",
       "\n",
       "    .dataframe tbody tr th {\n",
       "        vertical-align: top;\n",
       "    }\n",
       "\n",
       "    .dataframe thead th {\n",
       "        text-align: right;\n",
       "    }\n",
       "</style>\n",
       "<table border=\"1\" class=\"dataframe\">\n",
       "  <thead>\n",
       "    <tr style=\"text-align: right;\">\n",
       "      <th></th>\n",
       "      <th>Duration</th>\n",
       "      <th>Date</th>\n",
       "      <th>Pulse</th>\n",
       "      <th>Maxpulse</th>\n",
       "      <th>Calories</th>\n",
       "      <th>Pulse_Scaled</th>\n",
       "    </tr>\n",
       "  </thead>\n",
       "  <tbody>\n",
       "    <tr>\n",
       "      <th>0</th>\n",
       "      <td>60</td>\n",
       "      <td>2020-12-01</td>\n",
       "      <td>110</td>\n",
       "      <td>130</td>\n",
       "      <td>409.10</td>\n",
       "      <td>1.113308</td>\n",
       "    </tr>\n",
       "    <tr>\n",
       "      <th>1</th>\n",
       "      <td>60</td>\n",
       "      <td>2020-12-02</td>\n",
       "      <td>117</td>\n",
       "      <td>145</td>\n",
       "      <td>479.00</td>\n",
       "      <td>2.199855</td>\n",
       "    </tr>\n",
       "    <tr>\n",
       "      <th>2</th>\n",
       "      <td>60</td>\n",
       "      <td>2020-12-03</td>\n",
       "      <td>103</td>\n",
       "      <td>135</td>\n",
       "      <td>340.00</td>\n",
       "      <td>0.026762</td>\n",
       "    </tr>\n",
       "    <tr>\n",
       "      <th>3</th>\n",
       "      <td>45</td>\n",
       "      <td>2020-12-04</td>\n",
       "      <td>109</td>\n",
       "      <td>175</td>\n",
       "      <td>282.40</td>\n",
       "      <td>0.958088</td>\n",
       "    </tr>\n",
       "    <tr>\n",
       "      <th>4</th>\n",
       "      <td>45</td>\n",
       "      <td>2020-12-05</td>\n",
       "      <td>117</td>\n",
       "      <td>148</td>\n",
       "      <td>406.00</td>\n",
       "      <td>2.199855</td>\n",
       "    </tr>\n",
       "    <tr>\n",
       "      <th>5</th>\n",
       "      <td>60</td>\n",
       "      <td>2020-12-06</td>\n",
       "      <td>102</td>\n",
       "      <td>127</td>\n",
       "      <td>300.00</td>\n",
       "      <td>-0.128459</td>\n",
       "    </tr>\n",
       "    <tr>\n",
       "      <th>6</th>\n",
       "      <td>60</td>\n",
       "      <td>2020-12-07</td>\n",
       "      <td>110</td>\n",
       "      <td>136</td>\n",
       "      <td>374.00</td>\n",
       "      <td>1.113308</td>\n",
       "    </tr>\n",
       "    <tr>\n",
       "      <th>7</th>\n",
       "      <td>450</td>\n",
       "      <td>2020-12-08</td>\n",
       "      <td>104</td>\n",
       "      <td>134</td>\n",
       "      <td>253.30</td>\n",
       "      <td>0.181983</td>\n",
       "    </tr>\n",
       "    <tr>\n",
       "      <th>8</th>\n",
       "      <td>30</td>\n",
       "      <td>2020-12-09</td>\n",
       "      <td>109</td>\n",
       "      <td>133</td>\n",
       "      <td>195.10</td>\n",
       "      <td>0.958088</td>\n",
       "    </tr>\n",
       "    <tr>\n",
       "      <th>9</th>\n",
       "      <td>60</td>\n",
       "      <td>2020-12-10</td>\n",
       "      <td>98</td>\n",
       "      <td>124</td>\n",
       "      <td>269.00</td>\n",
       "      <td>-0.749342</td>\n",
       "    </tr>\n",
       "    <tr>\n",
       "      <th>10</th>\n",
       "      <td>60</td>\n",
       "      <td>2020-12-11</td>\n",
       "      <td>103</td>\n",
       "      <td>147</td>\n",
       "      <td>329.30</td>\n",
       "      <td>0.026762</td>\n",
       "    </tr>\n",
       "    <tr>\n",
       "      <th>11</th>\n",
       "      <td>60</td>\n",
       "      <td>2020-12-12</td>\n",
       "      <td>100</td>\n",
       "      <td>120</td>\n",
       "      <td>250.70</td>\n",
       "      <td>-0.438900</td>\n",
       "    </tr>\n",
       "    <tr>\n",
       "      <th>13</th>\n",
       "      <td>60</td>\n",
       "      <td>2020-12-13</td>\n",
       "      <td>106</td>\n",
       "      <td>128</td>\n",
       "      <td>345.30</td>\n",
       "      <td>0.492425</td>\n",
       "    </tr>\n",
       "    <tr>\n",
       "      <th>14</th>\n",
       "      <td>60</td>\n",
       "      <td>2020-12-14</td>\n",
       "      <td>104</td>\n",
       "      <td>132</td>\n",
       "      <td>379.30</td>\n",
       "      <td>0.181983</td>\n",
       "    </tr>\n",
       "    <tr>\n",
       "      <th>15</th>\n",
       "      <td>60</td>\n",
       "      <td>2020-12-15</td>\n",
       "      <td>98</td>\n",
       "      <td>123</td>\n",
       "      <td>275.00</td>\n",
       "      <td>-0.749342</td>\n",
       "    </tr>\n",
       "    <tr>\n",
       "      <th>16</th>\n",
       "      <td>60</td>\n",
       "      <td>2020-12-16</td>\n",
       "      <td>98</td>\n",
       "      <td>120</td>\n",
       "      <td>215.20</td>\n",
       "      <td>-0.749342</td>\n",
       "    </tr>\n",
       "    <tr>\n",
       "      <th>17</th>\n",
       "      <td>60</td>\n",
       "      <td>2020-12-17</td>\n",
       "      <td>100</td>\n",
       "      <td>120</td>\n",
       "      <td>300.00</td>\n",
       "      <td>-0.438900</td>\n",
       "    </tr>\n",
       "    <tr>\n",
       "      <th>18</th>\n",
       "      <td>45</td>\n",
       "      <td>2020-12-18</td>\n",
       "      <td>90</td>\n",
       "      <td>112</td>\n",
       "      <td>304.68</td>\n",
       "      <td>-1.991109</td>\n",
       "    </tr>\n",
       "    <tr>\n",
       "      <th>19</th>\n",
       "      <td>60</td>\n",
       "      <td>2020-12-19</td>\n",
       "      <td>103</td>\n",
       "      <td>123</td>\n",
       "      <td>323.00</td>\n",
       "      <td>0.026762</td>\n",
       "    </tr>\n",
       "    <tr>\n",
       "      <th>20</th>\n",
       "      <td>45</td>\n",
       "      <td>2020-12-20</td>\n",
       "      <td>97</td>\n",
       "      <td>125</td>\n",
       "      <td>243.00</td>\n",
       "      <td>-0.904563</td>\n",
       "    </tr>\n",
       "    <tr>\n",
       "      <th>21</th>\n",
       "      <td>60</td>\n",
       "      <td>2020-12-21</td>\n",
       "      <td>108</td>\n",
       "      <td>131</td>\n",
       "      <td>364.20</td>\n",
       "      <td>0.802867</td>\n",
       "    </tr>\n",
       "    <tr>\n",
       "      <th>24</th>\n",
       "      <td>45</td>\n",
       "      <td>2020-12-24</td>\n",
       "      <td>105</td>\n",
       "      <td>132</td>\n",
       "      <td>246.00</td>\n",
       "      <td>0.337204</td>\n",
       "    </tr>\n",
       "    <tr>\n",
       "      <th>25</th>\n",
       "      <td>60</td>\n",
       "      <td>2020-12-25</td>\n",
       "      <td>102</td>\n",
       "      <td>126</td>\n",
       "      <td>334.50</td>\n",
       "      <td>-0.128459</td>\n",
       "    </tr>\n",
       "    <tr>\n",
       "      <th>26</th>\n",
       "      <td>60</td>\n",
       "      <td>2020-12-26</td>\n",
       "      <td>100</td>\n",
       "      <td>120</td>\n",
       "      <td>250.00</td>\n",
       "      <td>-0.438900</td>\n",
       "    </tr>\n",
       "    <tr>\n",
       "      <th>27</th>\n",
       "      <td>60</td>\n",
       "      <td>2020-12-27</td>\n",
       "      <td>92</td>\n",
       "      <td>118</td>\n",
       "      <td>241.00</td>\n",
       "      <td>-1.680668</td>\n",
       "    </tr>\n",
       "    <tr>\n",
       "      <th>28</th>\n",
       "      <td>60</td>\n",
       "      <td>2020-12-28</td>\n",
       "      <td>103</td>\n",
       "      <td>132</td>\n",
       "      <td>304.68</td>\n",
       "      <td>0.026762</td>\n",
       "    </tr>\n",
       "    <tr>\n",
       "      <th>29</th>\n",
       "      <td>60</td>\n",
       "      <td>2020-12-29</td>\n",
       "      <td>100</td>\n",
       "      <td>132</td>\n",
       "      <td>280.00</td>\n",
       "      <td>-0.438900</td>\n",
       "    </tr>\n",
       "    <tr>\n",
       "      <th>30</th>\n",
       "      <td>60</td>\n",
       "      <td>2020-12-30</td>\n",
       "      <td>102</td>\n",
       "      <td>129</td>\n",
       "      <td>380.30</td>\n",
       "      <td>-0.128459</td>\n",
       "    </tr>\n",
       "    <tr>\n",
       "      <th>31</th>\n",
       "      <td>60</td>\n",
       "      <td>2020-12-31</td>\n",
       "      <td>92</td>\n",
       "      <td>115</td>\n",
       "      <td>243.00</td>\n",
       "      <td>-1.680668</td>\n",
       "    </tr>\n",
       "  </tbody>\n",
       "</table>\n",
       "</div>"
      ]
     },
     "execution_count": 154,
     "metadata": {},
     "output_type": "execute_result"
    }
   ],
   "execution_count": 154
  },
  {
   "metadata": {
    "ExecuteTime": {
     "end_time": "2024-10-03T03:20:59.324968Z",
     "start_time": "2024-10-03T03:20:59.296932Z"
    }
   },
   "cell_type": "code",
   "source": [
    "root_dir = os.path.dirname(os.getcwd())\n",
    "data_dir = os.path.join(root_dir, 'data')\n",
    "data_set_path = os.path.join(data_dir, 'temperatures.csv')\n",
    "temperatures = pd.read_csv(data_set_path)\n",
    "temperatures['country'].value_counts()"
   ],
   "id": "163c1b13d4cbfb05",
   "outputs": [
    {
     "data": {
      "text/plain": [
       "country\n",
       "China                                 2640\n",
       "India                                 2310\n",
       "Brazil                                 990\n",
       "Pakistan                               495\n",
       "Nigeria                                495\n",
       "Egypt                                  495\n",
       "Turkey                                 495\n",
       "United States                          495\n",
       "Russia                                 330\n",
       "Indonesia                              330\n",
       "Saudi Arabia                           330\n",
       "Canada                                 330\n",
       "South Africa                           330\n",
       "Colombia                               330\n",
       "Japan                                  330\n",
       "Australia                              330\n",
       "Somalia                                165\n",
       "Mexico                                 165\n",
       "Côte D'Ivoire                          165\n",
       "Italy                                  165\n",
       "Kenya                                  165\n",
       "France                                 165\n",
       "Burma                                  165\n",
       "Philippines                            165\n",
       "Chile                                  165\n",
       "Dominican Republic                     165\n",
       "South Korea                            165\n",
       "Singapore                              165\n",
       "Taiwan                                 165\n",
       "Iran                                   165\n",
       "Afghanistan                            165\n",
       "Spain                                  165\n",
       "Angola                                 165\n",
       "Syria                                  165\n",
       "Iraq                                   165\n",
       "Thailand                               165\n",
       "Germany                                165\n",
       "Morocco                                165\n",
       "Senegal                                165\n",
       "Tanzania                               165\n",
       "Bangladesh                             165\n",
       "Zimbabwe                               165\n",
       "Vietnam                                165\n",
       "Ethiopia                               165\n",
       "Ukraine                                165\n",
       "Congo (Democratic Republic Of The)     165\n",
       "Peru                                   165\n",
       "United Kingdom                         165\n",
       "Sudan                                  165\n",
       "Name: count, dtype: int64"
      ]
     },
     "execution_count": 155,
     "metadata": {},
     "output_type": "execute_result"
    }
   ],
   "execution_count": 155
  },
  {
   "metadata": {
    "ExecuteTime": {
     "end_time": "2024-10-03T03:20:59.495402Z",
     "start_time": "2024-10-03T03:20:59.487084Z"
    }
   },
   "cell_type": "code",
   "source": [
    "\"\"\"One Hot Encoder\"\"\"\n",
    "# temperatures = pd.get_dummies(\n",
    "#     temperatures,\n",
    "#     columns=['country'],\n",
    "#     sparse=True\n",
    "# )\n",
    "# temperatures"
   ],
   "id": "6719a614e009e382",
   "outputs": [
    {
     "data": {
      "text/plain": [
       "'One Hot Encoder'"
      ]
     },
     "execution_count": 156,
     "metadata": {},
     "output_type": "execute_result"
    }
   ],
   "execution_count": 156
  },
  {
   "metadata": {
    "ExecuteTime": {
     "end_time": "2024-10-03T03:26:35.049063Z",
     "start_time": "2024-10-03T03:26:35.043475Z"
    }
   },
   "cell_type": "code",
   "source": "\"\"\"Label Encoder\"\"\"",
   "id": "c44141a4f355c304",
   "outputs": [],
   "execution_count": 162
  },
  {
   "metadata": {},
   "cell_type": "code",
   "outputs": [],
   "execution_count": null,
   "source": "",
   "id": "5623df5470ff6c25"
  },
  {
   "metadata": {},
   "cell_type": "code",
   "outputs": [],
   "execution_count": null,
   "source": "",
   "id": "9f6104c58e5adb7f"
  }
 ],
 "metadata": {
  "kernelspec": {
   "display_name": "Python 3",
   "language": "python",
   "name": "python3"
  },
  "language_info": {
   "codemirror_mode": {
    "name": "ipython",
    "version": 2
   },
   "file_extension": ".py",
   "mimetype": "text/x-python",
   "name": "python",
   "nbconvert_exporter": "python",
   "pygments_lexer": "ipython2",
   "version": "2.7.6"
  }
 },
 "nbformat": 4,
 "nbformat_minor": 5
}
