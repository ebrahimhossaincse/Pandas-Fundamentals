{
 "cells": [
  {
   "cell_type": "code",
   "id": "initial_id",
   "metadata": {
    "collapsed": true,
    "ExecuteTime": {
     "end_time": "2024-10-04T04:39:51.904098Z",
     "start_time": "2024-10-04T04:39:51.898760Z"
    }
   },
   "source": [
    "import pandas as pd\n",
    "import numpy as np\n",
    "import os\n",
    "\n",
    "pd.__version__"
   ],
   "outputs": [
    {
     "data": {
      "text/plain": [
       "'2.2.2'"
      ]
     },
     "execution_count": 22,
     "metadata": {},
     "output_type": "execute_result"
    }
   ],
   "execution_count": 22
  },
  {
   "metadata": {
    "ExecuteTime": {
     "end_time": "2024-10-04T04:39:51.926885Z",
     "start_time": "2024-10-04T04:39:51.923106Z"
    }
   },
   "cell_type": "code",
   "source": [
    "root_dir = os.path.dirname(os.getcwd())\n",
    "data_dir = os.path.join(root_dir, 'data')\n",
    "data_set_path = os.path.join(data_dir, 'health_monitor_data.csv')"
   ],
   "id": "b193f1d061c604b1",
   "outputs": [],
   "execution_count": 23
  },
  {
   "metadata": {
    "ExecuteTime": {
     "end_time": "2024-10-04T04:39:51.959254Z",
     "start_time": "2024-10-04T04:39:51.945364Z"
    }
   },
   "cell_type": "code",
   "source": [
    "\"\"\"Read File\"\"\"\n",
    "health_monitor_data = pd.read_csv(data_set_path)\n",
    "health_monitor_data.head()"
   ],
   "id": "1f95c53aac2d8981",
   "outputs": [
    {
     "data": {
      "text/plain": [
       "   Duration          Date  Pulse  Maxpulse  Calories\n",
       "0        60  '2020/12/01'    110       130     409.1\n",
       "1        60  '2020/12/02'    117       145     479.0\n",
       "2        60  '2020/12/03'    103       135     340.0\n",
       "3        45  '2020/12/04'    109       175     282.4\n",
       "4        45  '2020/12/05'    117       148     406.0"
      ],
      "text/html": [
       "<div>\n",
       "<style scoped>\n",
       "    .dataframe tbody tr th:only-of-type {\n",
       "        vertical-align: middle;\n",
       "    }\n",
       "\n",
       "    .dataframe tbody tr th {\n",
       "        vertical-align: top;\n",
       "    }\n",
       "\n",
       "    .dataframe thead th {\n",
       "        text-align: right;\n",
       "    }\n",
       "</style>\n",
       "<table border=\"1\" class=\"dataframe\">\n",
       "  <thead>\n",
       "    <tr style=\"text-align: right;\">\n",
       "      <th></th>\n",
       "      <th>Duration</th>\n",
       "      <th>Date</th>\n",
       "      <th>Pulse</th>\n",
       "      <th>Maxpulse</th>\n",
       "      <th>Calories</th>\n",
       "    </tr>\n",
       "  </thead>\n",
       "  <tbody>\n",
       "    <tr>\n",
       "      <th>0</th>\n",
       "      <td>60</td>\n",
       "      <td>'2020/12/01'</td>\n",
       "      <td>110</td>\n",
       "      <td>130</td>\n",
       "      <td>409.1</td>\n",
       "    </tr>\n",
       "    <tr>\n",
       "      <th>1</th>\n",
       "      <td>60</td>\n",
       "      <td>'2020/12/02'</td>\n",
       "      <td>117</td>\n",
       "      <td>145</td>\n",
       "      <td>479.0</td>\n",
       "    </tr>\n",
       "    <tr>\n",
       "      <th>2</th>\n",
       "      <td>60</td>\n",
       "      <td>'2020/12/03'</td>\n",
       "      <td>103</td>\n",
       "      <td>135</td>\n",
       "      <td>340.0</td>\n",
       "    </tr>\n",
       "    <tr>\n",
       "      <th>3</th>\n",
       "      <td>45</td>\n",
       "      <td>'2020/12/04'</td>\n",
       "      <td>109</td>\n",
       "      <td>175</td>\n",
       "      <td>282.4</td>\n",
       "    </tr>\n",
       "    <tr>\n",
       "      <th>4</th>\n",
       "      <td>45</td>\n",
       "      <td>'2020/12/05'</td>\n",
       "      <td>117</td>\n",
       "      <td>148</td>\n",
       "      <td>406.0</td>\n",
       "    </tr>\n",
       "  </tbody>\n",
       "</table>\n",
       "</div>"
      ]
     },
     "execution_count": 24,
     "metadata": {},
     "output_type": "execute_result"
    }
   ],
   "execution_count": 24
  },
  {
   "metadata": {
    "ExecuteTime": {
     "end_time": "2024-10-04T04:39:52.020212Z",
     "start_time": "2024-10-04T04:39:52.013789Z"
    }
   },
   "cell_type": "code",
   "source": "\"\"\"Time Series analysis is a technique that deals with time-series data. It is a specific way of analyzing a sequence of data points gathered over time. \"\"\"",
   "id": "59dc99cc816e1a3f",
   "outputs": [
    {
     "data": {
      "text/plain": [
       "'Time Series analysis is a technique that deals with time-series data. It is a specific way of analyzing a sequence of data points gathered over time. '"
      ]
     },
     "execution_count": 25,
     "metadata": {},
     "output_type": "execute_result"
    }
   ],
   "execution_count": 25
  },
  {
   "metadata": {
    "ExecuteTime": {
     "end_time": "2024-10-04T04:39:52.095399Z",
     "start_time": "2024-10-04T04:39:52.090597Z"
    }
   },
   "cell_type": "code",
   "source": "\"\"\"Time Series analysis helps you identify patterns. It is also used in statistics, signal processing, pattern recognition, earthquake prediction, and weather forecasting. Good forecasting can predict the direction in which the data is changing.\"\"\"",
   "id": "c9b01ae44646b5e6",
   "outputs": [
    {
     "data": {
      "text/plain": [
       "'Time Series analysis helps you identify patterns. It is also used in statistics, signal processing, pattern recognition, earthquake prediction, and weather forecasting. Good forecasting can predict the direction in which the data is changing.'"
      ]
     },
     "execution_count": 26,
     "metadata": {},
     "output_type": "execute_result"
    }
   ],
   "execution_count": 26
  },
  {
   "metadata": {
    "ExecuteTime": {
     "end_time": "2024-10-04T04:39:52.158057Z",
     "start_time": "2024-10-04T04:39:52.152409Z"
    }
   },
   "cell_type": "code",
   "source": "\"\"\"In pandas, date_range() is used to return a fixed frequency DatetimeIndex. We can use this method to add a Time Series index to a data set. By default, it shows the frequency of the day.\"\"\"",
   "id": "7c6aa4f6017ac3ef",
   "outputs": [
    {
     "data": {
      "text/plain": [
       "'In pandas, date_range() is used to return a fixed frequency DatetimeIndex. We can use this method to add a Time Series index to a data set. By default, it shows the frequency of the day.'"
      ]
     },
     "execution_count": 27,
     "metadata": {},
     "output_type": "execute_result"
    }
   ],
   "execution_count": 27
  },
  {
   "metadata": {
    "ExecuteTime": {
     "end_time": "2024-10-04T04:39:52.216083Z",
     "start_time": "2024-10-04T04:39:52.210718Z"
    }
   },
   "cell_type": "code",
   "source": [
    "\"\"\"Creating a Date Range\"\"\"\n",
    "date_range = pd.date_range(start='2023-01-01', end='2023-01-10')\n",
    "print(date_range)"
   ],
   "id": "ec577b4f272099c8",
   "outputs": [
    {
     "name": "stdout",
     "output_type": "stream",
     "text": [
      "DatetimeIndex(['2023-01-01', '2023-01-02', '2023-01-03', '2023-01-04',\n",
      "               '2023-01-05', '2023-01-06', '2023-01-07', '2023-01-08',\n",
      "               '2023-01-09', '2023-01-10'],\n",
      "              dtype='datetime64[ns]', freq='D')\n"
     ]
    }
   ],
   "execution_count": 28
  },
  {
   "metadata": {
    "ExecuteTime": {
     "end_time": "2024-10-04T04:39:52.260599Z",
     "start_time": "2024-10-04T04:39:52.255393Z"
    }
   },
   "cell_type": "code",
   "source": [
    "\"\"\"Calculating Differences Between Dates\"\"\"\n",
    "# Create two date ranges\n",
    "start_date = pd.Timestamp('2023-01-01')\n",
    "end_date = pd.Timestamp('2023-01-10')\n",
    "\n",
    "# Difference between two dates\n",
    "date_diff = end_date - start_date\n",
    "print(date_diff)"
   ],
   "id": "387dc97c079cb0ad",
   "outputs": [
    {
     "name": "stdout",
     "output_type": "stream",
     "text": [
      "9 days 00:00:00\n"
     ]
    }
   ],
   "execution_count": 29
  },
  {
   "metadata": {
    "ExecuteTime": {
     "end_time": "2024-10-04T04:39:52.302814Z",
     "start_time": "2024-10-04T04:39:52.297751Z"
    }
   },
   "cell_type": "code",
   "source": [
    "\"\"\"Changing Frequency of Date Range\"\"\"\n",
    "\"\"\"\n",
    "Common frequencies:\n",
    "'D': Daily\n",
    "'W': Weekly\n",
    "'M': Monthly\n",
    "'H': Hourly\n",
    "'T' or 'min': Minute\n",
    "'S': Second\n",
    "\"\"\"\n",
    "# Date range with a frequency of every 2 days\n",
    "date_range = pd.date_range(start='2023-01-01', end='2023-01-10', freq='2D')\n",
    "print(date_range)"
   ],
   "id": "304401f8d5aa20e6",
   "outputs": [
    {
     "name": "stdout",
     "output_type": "stream",
     "text": [
      "DatetimeIndex(['2023-01-01', '2023-01-03', '2023-01-05', '2023-01-07',\n",
      "               '2023-01-09'],\n",
      "              dtype='datetime64[ns]', freq='2D')\n"
     ]
    }
   ],
   "execution_count": 30
  },
  {
   "metadata": {
    "ExecuteTime": {
     "end_time": "2024-10-04T04:39:52.350958Z",
     "start_time": "2024-10-04T04:39:52.344618Z"
    }
   },
   "cell_type": "code",
   "source": [
    "\"\"\"Shifting Dates\"\"\"\n",
    "# Create a date range\n",
    "date_range = pd.date_range(start='2023-01-01', periods=5, freq='D')\n",
    "\n",
    "# Shift dates forward by 2 days\n",
    "shifted_dates_forward = date_range.shift(2)\n",
    "\n",
    "# Shift dates backward by 3 days\n",
    "shifted_dates_backward = date_range.shift(-3)\n",
    "\n",
    "print(\"Original dates:\\n\", date_range)\n",
    "print(\"\\nShifted forward by 2 days:\\n\", shifted_dates_forward)\n",
    "print(\"\\nShifted backward by 3 days:\\n\", shifted_dates_backward)"
   ],
   "id": "1a2c697c88045e87",
   "outputs": [
    {
     "name": "stdout",
     "output_type": "stream",
     "text": [
      "Original dates:\n",
      " DatetimeIndex(['2023-01-01', '2023-01-02', '2023-01-03', '2023-01-04',\n",
      "               '2023-01-05'],\n",
      "              dtype='datetime64[ns]', freq='D')\n",
      "\n",
      "Shifted forward by 2 days:\n",
      " DatetimeIndex(['2023-01-03', '2023-01-04', '2023-01-05', '2023-01-06',\n",
      "               '2023-01-07'],\n",
      "              dtype='datetime64[ns]', freq='D')\n",
      "\n",
      "Shifted backward by 3 days:\n",
      " DatetimeIndex(['2022-12-29', '2022-12-30', '2022-12-31', '2023-01-01',\n",
      "               '2023-01-02'],\n",
      "              dtype='datetime64[ns]', freq='D')\n"
     ]
    }
   ],
   "execution_count": 31
  },
  {
   "metadata": {
    "ExecuteTime": {
     "end_time": "2024-10-04T04:39:52.625845Z",
     "start_time": "2024-10-04T04:39:52.450374Z"
    }
   },
   "cell_type": "code",
   "source": [
    "\"\"\"Handling Time Zones\"\"\"\n",
    "# Create a date range\n",
    "date_range = pd.date_range(start='2023-01-01', periods=5, freq='D')\n",
    "\n",
    "# Localize to a specific time zone (e.g., US/Eastern)\n",
    "date_range_tz = date_range.tz_localize('US/Eastern')\n",
    "\n",
    "# Convert to another time zone (e.g., Europe/London)\n",
    "date_range_converted = date_range_tz.tz_convert('Europe/London')\n",
    "\n",
    "print(\"Original dates with timezone:\\n\", date_range_tz)\n",
    "print(\"\\nConverted to Europe/London:\\n\", date_range_converted)"
   ],
   "id": "d43d80b95e17c869",
   "outputs": [
    {
     "name": "stdout",
     "output_type": "stream",
     "text": [
      "Original dates with timezone:\n",
      " DatetimeIndex(['2023-01-01 00:00:00-05:00', '2023-01-02 00:00:00-05:00',\n",
      "               '2023-01-03 00:00:00-05:00', '2023-01-04 00:00:00-05:00',\n",
      "               '2023-01-05 00:00:00-05:00'],\n",
      "              dtype='datetime64[ns, US/Eastern]', freq=None)\n",
      "\n",
      "Converted to Europe/London:\n",
      " DatetimeIndex(['2023-01-01 05:00:00+00:00', '2023-01-02 05:00:00+00:00',\n",
      "               '2023-01-03 05:00:00+00:00', '2023-01-04 05:00:00+00:00',\n",
      "               '2023-01-05 05:00:00+00:00'],\n",
      "              dtype='datetime64[ns, Europe/London]', freq=None)\n"
     ]
    }
   ],
   "execution_count": 32
  }
 ],
 "metadata": {
  "kernelspec": {
   "display_name": "Python 3",
   "language": "python",
   "name": "python3"
  },
  "language_info": {
   "codemirror_mode": {
    "name": "ipython",
    "version": 2
   },
   "file_extension": ".py",
   "mimetype": "text/x-python",
   "name": "python",
   "nbconvert_exporter": "python",
   "pygments_lexer": "ipython2",
   "version": "2.7.6"
  }
 },
 "nbformat": 4,
 "nbformat_minor": 5
}
