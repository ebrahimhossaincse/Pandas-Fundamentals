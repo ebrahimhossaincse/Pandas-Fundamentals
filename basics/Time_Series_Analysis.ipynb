{
 "cells": [
  {
   "cell_type": "code",
   "id": "initial_id",
   "metadata": {
    "collapsed": true,
    "ExecuteTime": {
     "end_time": "2024-10-04T03:39:38.386612Z",
     "start_time": "2024-10-04T03:39:38.381214Z"
    }
   },
   "source": [
    "import pandas as pd\n",
    "import numpy as np\n",
    "import os\n",
    "\n",
    "pd.__version__"
   ],
   "outputs": [
    {
     "data": {
      "text/plain": [
       "'2.2.2'"
      ]
     },
     "execution_count": 5,
     "metadata": {},
     "output_type": "execute_result"
    }
   ],
   "execution_count": 5
  },
  {
   "metadata": {
    "ExecuteTime": {
     "end_time": "2024-10-04T03:39:38.421082Z",
     "start_time": "2024-10-04T03:39:38.416620Z"
    }
   },
   "cell_type": "code",
   "source": [
    "root_dir = os.path.dirname(os.getcwd())\n",
    "data_dir = os.path.join(root_dir, 'data')\n",
    "data_set_path = os.path.join(data_dir, 'health_monitor_data.csv')"
   ],
   "id": "b193f1d061c604b1",
   "outputs": [],
   "execution_count": 6
  },
  {
   "metadata": {
    "ExecuteTime": {
     "end_time": "2024-10-04T03:39:38.533775Z",
     "start_time": "2024-10-04T03:39:38.521738Z"
    }
   },
   "cell_type": "code",
   "source": [
    "\"\"\"Read File\"\"\"\n",
    "health_monitor_data = pd.read_csv(data_set_path)\n",
    "health_monitor_data.head()"
   ],
   "id": "1f95c53aac2d8981",
   "outputs": [
    {
     "data": {
      "text/plain": [
       "   Duration          Date  Pulse  Maxpulse  Calories\n",
       "0        60  '2020/12/01'    110       130     409.1\n",
       "1        60  '2020/12/02'    117       145     479.0\n",
       "2        60  '2020/12/03'    103       135     340.0\n",
       "3        45  '2020/12/04'    109       175     282.4\n",
       "4        45  '2020/12/05'    117       148     406.0"
      ],
      "text/html": [
       "<div>\n",
       "<style scoped>\n",
       "    .dataframe tbody tr th:only-of-type {\n",
       "        vertical-align: middle;\n",
       "    }\n",
       "\n",
       "    .dataframe tbody tr th {\n",
       "        vertical-align: top;\n",
       "    }\n",
       "\n",
       "    .dataframe thead th {\n",
       "        text-align: right;\n",
       "    }\n",
       "</style>\n",
       "<table border=\"1\" class=\"dataframe\">\n",
       "  <thead>\n",
       "    <tr style=\"text-align: right;\">\n",
       "      <th></th>\n",
       "      <th>Duration</th>\n",
       "      <th>Date</th>\n",
       "      <th>Pulse</th>\n",
       "      <th>Maxpulse</th>\n",
       "      <th>Calories</th>\n",
       "    </tr>\n",
       "  </thead>\n",
       "  <tbody>\n",
       "    <tr>\n",
       "      <th>0</th>\n",
       "      <td>60</td>\n",
       "      <td>'2020/12/01'</td>\n",
       "      <td>110</td>\n",
       "      <td>130</td>\n",
       "      <td>409.1</td>\n",
       "    </tr>\n",
       "    <tr>\n",
       "      <th>1</th>\n",
       "      <td>60</td>\n",
       "      <td>'2020/12/02'</td>\n",
       "      <td>117</td>\n",
       "      <td>145</td>\n",
       "      <td>479.0</td>\n",
       "    </tr>\n",
       "    <tr>\n",
       "      <th>2</th>\n",
       "      <td>60</td>\n",
       "      <td>'2020/12/03'</td>\n",
       "      <td>103</td>\n",
       "      <td>135</td>\n",
       "      <td>340.0</td>\n",
       "    </tr>\n",
       "    <tr>\n",
       "      <th>3</th>\n",
       "      <td>45</td>\n",
       "      <td>'2020/12/04'</td>\n",
       "      <td>109</td>\n",
       "      <td>175</td>\n",
       "      <td>282.4</td>\n",
       "    </tr>\n",
       "    <tr>\n",
       "      <th>4</th>\n",
       "      <td>45</td>\n",
       "      <td>'2020/12/05'</td>\n",
       "      <td>117</td>\n",
       "      <td>148</td>\n",
       "      <td>406.0</td>\n",
       "    </tr>\n",
       "  </tbody>\n",
       "</table>\n",
       "</div>"
      ]
     },
     "execution_count": 7,
     "metadata": {},
     "output_type": "execute_result"
    }
   ],
   "execution_count": 7
  },
  {
   "metadata": {
    "ExecuteTime": {
     "end_time": "2024-10-04T03:39:38.589758Z",
     "start_time": "2024-10-04T03:39:38.583594Z"
    }
   },
   "cell_type": "code",
   "source": "\"\"\"Time Series analysis is a technique that deals with time-series data. It is a specific way of analyzing a sequence of data points gathered over time. \"\"\"",
   "id": "59dc99cc816e1a3f",
   "outputs": [
    {
     "data": {
      "text/plain": [
       "'Time Series analysis is a technique that deals with time-series data. It is a specific way of analyzing a sequence of data points gathered over time. '"
      ]
     },
     "execution_count": 8,
     "metadata": {},
     "output_type": "execute_result"
    }
   ],
   "execution_count": 8
  },
  {
   "metadata": {
    "ExecuteTime": {
     "end_time": "2024-10-04T03:39:38.767240Z",
     "start_time": "2024-10-04T03:39:38.761346Z"
    }
   },
   "cell_type": "code",
   "source": "\"\"\"Time Series analysis helps you identify patterns. It is also used in statistics, signal processing, pattern recognition, earthquake prediction, and weather forecasting. Good forecasting can predict the direction in which the data is changing.\"\"\"",
   "id": "c9b01ae44646b5e6",
   "outputs": [
    {
     "data": {
      "text/plain": [
       "'Time Series analysis helps you identify patterns. It is also used in statistics, signal processing, pattern recognition, earthquake prediction, and weather forecasting. Good forecasting can predict the direction in which the data is changing.'"
      ]
     },
     "execution_count": 9,
     "metadata": {},
     "output_type": "execute_result"
    }
   ],
   "execution_count": 9
  },
  {
   "metadata": {
    "ExecuteTime": {
     "end_time": "2024-10-04T03:41:55.552527Z",
     "start_time": "2024-10-04T03:41:55.547012Z"
    }
   },
   "cell_type": "code",
   "source": "\"\"\"In pandas, date_range() is used to return a fixed frequency DatetimeIndex. We can use this method to add a Time Series index to a data set. By default, it shows the frequency of the day.\"\"\"",
   "id": "7c6aa4f6017ac3ef",
   "outputs": [
    {
     "name": "stdout",
     "output_type": "stream",
     "text": [
      "DatetimeIndex(['2020-12-02'], dtype='datetime64[ns]', freq='D')\n"
     ]
    }
   ],
   "execution_count": 13
  },
  {
   "metadata": {
    "ExecuteTime": {
     "end_time": "2024-10-04T03:55:30.016309Z",
     "start_time": "2024-10-04T03:55:30.009006Z"
    }
   },
   "cell_type": "code",
   "source": [
    "\"\"\"Creating a Date Range\"\"\"\n",
    "date_range = pd.date_range(start='2023-01-01', end='2023-01-10')\n",
    "print(date_range)"
   ],
   "id": "ec577b4f272099c8",
   "outputs": [
    {
     "name": "stdout",
     "output_type": "stream",
     "text": [
      "DatetimeIndex(['2023-01-01', '2023-01-02', '2023-01-03', '2023-01-04',\n",
      "               '2023-01-05', '2023-01-06', '2023-01-07', '2023-01-08',\n",
      "               '2023-01-09', '2023-01-10'],\n",
      "              dtype='datetime64[ns]', freq='D')\n"
     ]
    }
   ],
   "execution_count": 14
  },
  {
   "metadata": {
    "ExecuteTime": {
     "end_time": "2024-10-04T03:55:58.926996Z",
     "start_time": "2024-10-04T03:55:58.909882Z"
    }
   },
   "cell_type": "code",
   "source": [
    "\"\"\"Calculating Differences Between Dates\"\"\"\n",
    "# Create two date ranges\n",
    "start_date = pd.Timestamp('2023-01-01')\n",
    "end_date = pd.Timestamp('2023-01-10')\n",
    "\n",
    "# Difference between two dates\n",
    "date_diff = end_date - start_date\n",
    "print(date_diff)"
   ],
   "id": "387dc97c079cb0ad",
   "outputs": [
    {
     "name": "stdout",
     "output_type": "stream",
     "text": [
      "9 days 00:00:00\n"
     ]
    }
   ],
   "execution_count": 15
  },
  {
   "metadata": {
    "ExecuteTime": {
     "end_time": "2024-10-04T03:56:58.154472Z",
     "start_time": "2024-10-04T03:56:58.148894Z"
    }
   },
   "cell_type": "code",
   "source": [
    "\"\"\"Changing Frequency of Date Range\"\"\"\n",
    "# Date range with a frequency of every 2 days\n",
    "date_range = pd.date_range(start='2023-01-01', end='2023-01-10', freq='2D')\n",
    "print(date_range)"
   ],
   "id": "304401f8d5aa20e6",
   "outputs": [
    {
     "name": "stdout",
     "output_type": "stream",
     "text": [
      "DatetimeIndex(['2023-01-01', '2023-01-03', '2023-01-05', '2023-01-07',\n",
      "               '2023-01-09'],\n",
      "              dtype='datetime64[ns]', freq='2D')\n"
     ]
    }
   ],
   "execution_count": 16
  }
 ],
 "metadata": {
  "kernelspec": {
   "display_name": "Python 3",
   "language": "python",
   "name": "python3"
  },
  "language_info": {
   "codemirror_mode": {
    "name": "ipython",
    "version": 2
   },
   "file_extension": ".py",
   "mimetype": "text/x-python",
   "name": "python",
   "nbconvert_exporter": "python",
   "pygments_lexer": "ipython2",
   "version": "2.7.6"
  }
 },
 "nbformat": 4,
 "nbformat_minor": 5
}
